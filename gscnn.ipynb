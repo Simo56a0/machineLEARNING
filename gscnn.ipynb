{
  "nbformat": 4,
  "nbformat_minor": 0,
  "metadata": {
    "colab": {
      "provenance": [],
      "gpuType": "T4",
      "authorship_tag": "ABX9TyNO38a3lJ3aDeJkhJrxpIq/",
      "include_colab_link": true
    },
    "kernelspec": {
      "name": "python3",
      "display_name": "Python 3"
    },
    "language_info": {
      "name": "python"
    },
    "accelerator": "GPU"
  },
  "cells": [
    {
      "cell_type": "markdown",
      "metadata": {
        "id": "view-in-github",
        "colab_type": "text"
      },
      "source": [
        "<a href=\"https://colab.research.google.com/github/Simo56a0/machineLEARNING/blob/master/gscnn.ipynb\" target=\"_parent\"><img src=\"https://colab.research.google.com/assets/colab-badge.svg\" alt=\"Open In Colab\"/></a>"
      ]
    },
    {
      "cell_type": "code",
      "source": [
        "!pip install spektral tensorflow numpy opencv-python scikit-learn\n"
      ],
      "metadata": {
        "colab": {
          "base_uri": "https://localhost:8080/"
        },
        "id": "_gN6n2On6pKd",
        "outputId": "51e177c0-5e9e-4a10-8b05-9f8d4b1fc1a5"
      },
      "execution_count": null,
      "outputs": [
        {
          "output_type": "stream",
          "name": "stdout",
          "text": [
            "Collecting spektral\n",
            "  Downloading spektral-1.3.1-py3-none-any.whl.metadata (5.9 kB)\n",
            "Requirement already satisfied: tensorflow in /usr/local/lib/python3.11/dist-packages (2.18.0)\n",
            "Requirement already satisfied: numpy in /usr/local/lib/python3.11/dist-packages (1.26.4)\n",
            "Requirement already satisfied: opencv-python in /usr/local/lib/python3.11/dist-packages (4.11.0.86)\n",
            "Requirement already satisfied: scikit-learn in /usr/local/lib/python3.11/dist-packages (1.6.1)\n",
            "Requirement already satisfied: joblib in /usr/local/lib/python3.11/dist-packages (from spektral) (1.4.2)\n",
            "Requirement already satisfied: lxml in /usr/local/lib/python3.11/dist-packages (from spektral) (5.3.1)\n",
            "Requirement already satisfied: networkx in /usr/local/lib/python3.11/dist-packages (from spektral) (3.4.2)\n",
            "Requirement already satisfied: pandas in /usr/local/lib/python3.11/dist-packages (from spektral) (2.2.2)\n",
            "Requirement already satisfied: requests in /usr/local/lib/python3.11/dist-packages (from spektral) (2.32.3)\n",
            "Requirement already satisfied: scipy in /usr/local/lib/python3.11/dist-packages (from spektral) (1.13.1)\n",
            "Requirement already satisfied: tqdm in /usr/local/lib/python3.11/dist-packages (from spektral) (4.67.1)\n",
            "Requirement already satisfied: absl-py>=1.0.0 in /usr/local/lib/python3.11/dist-packages (from tensorflow) (1.4.0)\n",
            "Requirement already satisfied: astunparse>=1.6.0 in /usr/local/lib/python3.11/dist-packages (from tensorflow) (1.6.3)\n",
            "Requirement already satisfied: flatbuffers>=24.3.25 in /usr/local/lib/python3.11/dist-packages (from tensorflow) (25.2.10)\n",
            "Requirement already satisfied: gast!=0.5.0,!=0.5.1,!=0.5.2,>=0.2.1 in /usr/local/lib/python3.11/dist-packages (from tensorflow) (0.6.0)\n",
            "Requirement already satisfied: google-pasta>=0.1.1 in /usr/local/lib/python3.11/dist-packages (from tensorflow) (0.2.0)\n",
            "Requirement already satisfied: libclang>=13.0.0 in /usr/local/lib/python3.11/dist-packages (from tensorflow) (18.1.1)\n",
            "Requirement already satisfied: opt-einsum>=2.3.2 in /usr/local/lib/python3.11/dist-packages (from tensorflow) (3.4.0)\n",
            "Requirement already satisfied: packaging in /usr/local/lib/python3.11/dist-packages (from tensorflow) (24.2)\n",
            "Requirement already satisfied: protobuf!=4.21.0,!=4.21.1,!=4.21.2,!=4.21.3,!=4.21.4,!=4.21.5,<6.0.0dev,>=3.20.3 in /usr/local/lib/python3.11/dist-packages (from tensorflow) (4.25.6)\n",
            "Requirement already satisfied: setuptools in /usr/local/lib/python3.11/dist-packages (from tensorflow) (75.1.0)\n",
            "Requirement already satisfied: six>=1.12.0 in /usr/local/lib/python3.11/dist-packages (from tensorflow) (1.17.0)\n",
            "Requirement already satisfied: termcolor>=1.1.0 in /usr/local/lib/python3.11/dist-packages (from tensorflow) (2.5.0)\n",
            "Requirement already satisfied: typing-extensions>=3.6.6 in /usr/local/lib/python3.11/dist-packages (from tensorflow) (4.12.2)\n",
            "Requirement already satisfied: wrapt>=1.11.0 in /usr/local/lib/python3.11/dist-packages (from tensorflow) (1.17.2)\n",
            "Requirement already satisfied: grpcio<2.0,>=1.24.3 in /usr/local/lib/python3.11/dist-packages (from tensorflow) (1.70.0)\n",
            "Requirement already satisfied: tensorboard<2.19,>=2.18 in /usr/local/lib/python3.11/dist-packages (from tensorflow) (2.18.0)\n",
            "Requirement already satisfied: keras>=3.5.0 in /usr/local/lib/python3.11/dist-packages (from tensorflow) (3.8.0)\n",
            "Requirement already satisfied: h5py>=3.11.0 in /usr/local/lib/python3.11/dist-packages (from tensorflow) (3.12.1)\n",
            "Requirement already satisfied: ml-dtypes<0.5.0,>=0.4.0 in /usr/local/lib/python3.11/dist-packages (from tensorflow) (0.4.1)\n",
            "Requirement already satisfied: tensorflow-io-gcs-filesystem>=0.23.1 in /usr/local/lib/python3.11/dist-packages (from tensorflow) (0.37.1)\n",
            "Requirement already satisfied: threadpoolctl>=3.1.0 in /usr/local/lib/python3.11/dist-packages (from scikit-learn) (3.5.0)\n",
            "Requirement already satisfied: wheel<1.0,>=0.23.0 in /usr/local/lib/python3.11/dist-packages (from astunparse>=1.6.0->tensorflow) (0.45.1)\n",
            "Requirement already satisfied: rich in /usr/local/lib/python3.11/dist-packages (from keras>=3.5.0->tensorflow) (13.9.4)\n",
            "Requirement already satisfied: namex in /usr/local/lib/python3.11/dist-packages (from keras>=3.5.0->tensorflow) (0.0.8)\n",
            "Requirement already satisfied: optree in /usr/local/lib/python3.11/dist-packages (from keras>=3.5.0->tensorflow) (0.14.0)\n",
            "Requirement already satisfied: charset-normalizer<4,>=2 in /usr/local/lib/python3.11/dist-packages (from requests->spektral) (3.4.1)\n",
            "Requirement already satisfied: idna<4,>=2.5 in /usr/local/lib/python3.11/dist-packages (from requests->spektral) (3.10)\n",
            "Requirement already satisfied: urllib3<3,>=1.21.1 in /usr/local/lib/python3.11/dist-packages (from requests->spektral) (2.3.0)\n",
            "Requirement already satisfied: certifi>=2017.4.17 in /usr/local/lib/python3.11/dist-packages (from requests->spektral) (2025.1.31)\n",
            "Requirement already satisfied: markdown>=2.6.8 in /usr/local/lib/python3.11/dist-packages (from tensorboard<2.19,>=2.18->tensorflow) (3.7)\n",
            "Requirement already satisfied: tensorboard-data-server<0.8.0,>=0.7.0 in /usr/local/lib/python3.11/dist-packages (from tensorboard<2.19,>=2.18->tensorflow) (0.7.2)\n",
            "Requirement already satisfied: werkzeug>=1.0.1 in /usr/local/lib/python3.11/dist-packages (from tensorboard<2.19,>=2.18->tensorflow) (3.1.3)\n",
            "Requirement already satisfied: python-dateutil>=2.8.2 in /usr/local/lib/python3.11/dist-packages (from pandas->spektral) (2.8.2)\n",
            "Requirement already satisfied: pytz>=2020.1 in /usr/local/lib/python3.11/dist-packages (from pandas->spektral) (2025.1)\n",
            "Requirement already satisfied: tzdata>=2022.7 in /usr/local/lib/python3.11/dist-packages (from pandas->spektral) (2025.1)\n",
            "Requirement already satisfied: MarkupSafe>=2.1.1 in /usr/local/lib/python3.11/dist-packages (from werkzeug>=1.0.1->tensorboard<2.19,>=2.18->tensorflow) (3.0.2)\n",
            "Requirement already satisfied: markdown-it-py>=2.2.0 in /usr/local/lib/python3.11/dist-packages (from rich->keras>=3.5.0->tensorflow) (3.0.0)\n",
            "Requirement already satisfied: pygments<3.0.0,>=2.13.0 in /usr/local/lib/python3.11/dist-packages (from rich->keras>=3.5.0->tensorflow) (2.18.0)\n",
            "Requirement already satisfied: mdurl~=0.1 in /usr/local/lib/python3.11/dist-packages (from markdown-it-py>=2.2.0->rich->keras>=3.5.0->tensorflow) (0.1.2)\n",
            "Downloading spektral-1.3.1-py3-none-any.whl (140 kB)\n",
            "\u001b[2K   \u001b[90m━━━━━━━━━━━━━━━━━━━━━━━━━━━━━━━━━━━━━━━━\u001b[0m \u001b[32m140.1/140.1 kB\u001b[0m \u001b[31m3.7 MB/s\u001b[0m eta \u001b[36m0:00:00\u001b[0m\n",
            "\u001b[?25hInstalling collected packages: spektral\n",
            "Successfully installed spektral-1.3.1\n"
          ]
        }
      ]
    },
    {
      "cell_type": "code",
      "source": [
        "from google.colab import drive\n",
        "drive.mount('/content/drive')\n"
      ],
      "metadata": {
        "colab": {
          "base_uri": "https://localhost:8080/"
        },
        "id": "E56v3xDJ7mQL",
        "outputId": "8b823a1a-e41b-478a-9508-e27aac94f309"
      },
      "execution_count": null,
      "outputs": [
        {
          "output_type": "stream",
          "name": "stdout",
          "text": [
            "Mounted at /content/drive\n"
          ]
        }
      ]
    },
    {
      "cell_type": "code",
      "source": [
        "import os\n",
        "\n",
        "folder_path = '/content/drive/MyDrive/DATASET_ug_sign_language'\n",
        "files_in_folder = os.listdir(folder_path)\n",
        "print(files_in_folder)\n"
      ],
      "metadata": {
        "colab": {
          "base_uri": "https://localhost:8080/"
        },
        "id": "wZc5mLBO7sC7",
        "outputId": "f010d7b7-cee6-4e93-f18c-326ca6b2a444"
      },
      "execution_count": null,
      "outputs": [
        {
          "output_type": "stream",
          "name": "stdout",
          "text": [
            "['sign_annotations.csv', 'videos', '.ipynb_checkpoints', 'checkpoint.txt', 'frames1', 'resized_frames', 'normalized_frames', 'encoded_sign_labels.csv']\n"
          ]
        }
      ]
    },
    {
      "cell_type": "code",
      "source": [
        "import os\n",
        "import numpy as np\n",
        "import pandas as pd\n",
        "import cv2\n",
        "from tensorflow.keras.utils import to_categorical\n",
        "from tensorflow.keras.preprocessing.image import ImageDataGenerator\n",
        "from sklearn.model_selection import train_test_split\n",
        "\n",
        "# ✅ Set Paths Based on Your Dataset Structure\n",
        "DATASET_PATH = \"/content/drive/MyDrive/DATASET_ug_sign_language\"\n",
        "FRAMES_PATH = os.path.join(DATASET_PATH, \"/content/drive/MyDrive/DATASET_ug_sign_language/resized_frames\")  # Use resized frames to save memory\n",
        "ANNOTATIONS_PATH = os.path.join(DATASET_PATH, \"/content/drive/MyDrive/DATASET_ug_sign_language/encoded_sign_labels.csv\")  # Directly using your encoded labels\n",
        "\n",
        "# ✅ Reduce Image Size & Batch Size to Prevent Crashes\n",
        "IMG_SIZE = 64  # Reducing from 224x224 to optimize memory\n",
        "BATCH_SIZE = 8  # Small batch size prevents out-of-memory errors\n",
        "\n",
        "# ✅ Load Pre-Encoded Labels\n",
        "df = pd.read_csv(ANNOTATIONS_PATH)\n",
        "\n",
        "# ✅ Verify Data\n",
        "print(df.head())  # Ensure we are loading the correct file\n",
        "\n",
        "# ✅ Extract X (frames) and Y (pre-encoded labels)\n",
        "X, Y = [], []\n",
        "\n",
        "for index, row in df.iterrows():\n",
        "    video_id = row['video_ID']\n",
        "    label = row['encoded_label']  # Directly using pre-encoded labels\n",
        "\n",
        "    # ✅ Load All Frames for Each Video\n",
        "    frame_files = sorted([f for f in os.listdir(FRAMES_PATH) if f.startswith(f\"{video_id}_\")])\n",
        "\n",
        "    for frame_file in frame_files:\n",
        "        frame_path = os.path.join(FRAMES_PATH, frame_file)\n",
        "        img = cv2.imread(frame_path)\n",
        "        if img is None:\n",
        "            continue\n",
        "        img = cv2.resize(img, (IMG_SIZE, IMG_SIZE)) / 255.0  # Resize & Normalize\n",
        "        X.append(img)\n",
        "        Y.append(label)\n",
        "\n",
        "# ✅ Convert to NumPy Arrays\n",
        "X = np.array(X, dtype=\"float32\")\n",
        "Y = np.array(Y, dtype=\"int\")\n",
        "\n",
        "# ✅ Ensure `Y` matches `X`\n",
        "Y = Y[:len(X)]\n",
        "NUM_CLASSES = len(np.unique(Y))\n",
        "\n",
        "# ✅ One-Hot Encode Labels (Since They Are Already Encoded)\n",
        "Y = to_categorical(Y, num_classes=NUM_CLASSES)\n",
        "\n",
        "# ✅ Split Dataset\n",
        "X_train, X_test, Y_train, Y_test = train_test_split(X, Y, test_size=0.2, random_state=42)\n",
        "\n",
        "# ✅ Use ImageDataGenerator to Load in Small Batches (Prevents Crashes)\n",
        "train_datagen = ImageDataGenerator()\n",
        "test_datagen = ImageDataGenerator()\n",
        "\n",
        "train_generator = train_datagen.flow(X_train, Y_train, batch_size=BATCH_SIZE)\n",
        "test_generator = test_datagen.flow(X_test, Y_test, batch_size=BATCH_SIZE)\n",
        "\n",
        "print(f\"✅ Training Samples: {X_train.shape}, Testing Samples: {X_test.shape}\")\n"
      ],
      "metadata": {
        "colab": {
          "base_uri": "https://localhost:8080/"
        },
        "id": "t1E6_W9x7xTB",
        "outputId": "414a6717-c0c5-4ad6-83ba-f34309eb2354"
      },
      "execution_count": null,
      "outputs": [
        {
          "output_type": "stream",
          "name": "stdout",
          "text": [
            "   video_ID sign_word  encoded_label\n",
            "0  0001.mp4     hello             28\n",
            "1  0002.mp4       you             84\n",
            "2  0003.mp4       how             31\n",
            "3  0004.mp4      name             46\n",
            "4  0005.mp4      what             78\n",
            "✅ Training Samples: (3397, 64, 64, 3), Testing Samples: (850, 64, 64, 3)\n"
          ]
        }
      ]
    },
    {
      "cell_type": "code",
      "source": [
        "from tensorflow.keras.applications import MobileNetV2\n",
        "from tensorflow.keras.layers import Input, Dense, Dropout, Flatten\n",
        "from tensorflow.keras.models import Model\n",
        "import tensorflow as tf\n",
        "\n",
        "def build_gscnn(input_shape, num_classes):\n",
        "    base_model = MobileNetV2(input_shape=input_shape, include_top=False, weights=\"imagenet\")\n",
        "\n",
        "    # ✅ Unfreeze last 50% of layers for fine-tuning\n",
        "    for layer in base_model.layers[:100]:  # First 100 layers stay frozen\n",
        "        layer.trainable = False\n",
        "    for layer in base_model.layers[100:]:  # Last layers are trainable\n",
        "        layer.trainable = True\n",
        "\n",
        "    inputs = Input(shape=input_shape)\n",
        "    x = base_model(inputs, training=True)\n",
        "    x = Flatten()(x)\n",
        "    x = Dense(256, activation=\"relu\", kernel_regularizer=tf.keras.regularizers.l2(0.01))(x)\n",
        "    x = Dropout(0.5)(x)  # Prevent overfitting\n",
        "    output = Dense(num_classes, activation=\"softmax\")(x)\n",
        "\n",
        "    model = Model(inputs, output)\n",
        "    model.compile(optimizer=tf.keras.optimizers.Adam(learning_rate=0.00005), loss=\"categorical_crossentropy\", metrics=[\"accuracy\"])\n",
        "    return model\n",
        "\n",
        "# ✅ Initialize Model\n",
        "gscnn_model = build_gscnn(input_shape=(64, 64, 3), num_classes=85)\n",
        "gscnn_model.summary()\n"
      ],
      "metadata": {
        "colab": {
          "base_uri": "https://localhost:8080/",
          "height": 395
        },
        "id": "MeFDbkOd_D3v",
        "outputId": "db85483a-410b-4b52-b669-ef094febd5fb"
      },
      "execution_count": null,
      "outputs": [
        {
          "output_type": "stream",
          "name": "stderr",
          "text": [
            "<ipython-input-25-8c1755fa05f2>:7: UserWarning: `input_shape` is undefined or non-square, or `rows` is not in [96, 128, 160, 192, 224]. Weights for input shape (224, 224) will be loaded as the default.\n",
            "  base_model = MobileNetV2(input_shape=input_shape, include_top=False, weights=\"imagenet\")\n"
          ]
        },
        {
          "output_type": "display_data",
          "data": {
            "text/plain": [
              "\u001b[1mModel: \"functional_4\"\u001b[0m\n"
            ],
            "text/html": [
              "<pre style=\"white-space:pre;overflow-x:auto;line-height:normal;font-family:Menlo,'DejaVu Sans Mono',consolas,'Courier New',monospace\"><span style=\"font-weight: bold\">Model: \"functional_4\"</span>\n",
              "</pre>\n"
            ]
          },
          "metadata": {}
        },
        {
          "output_type": "display_data",
          "data": {
            "text/plain": [
              "┏━━━━━━━━━━━━━━━━━━━━━━━━━━━━━━━━━━━━━━┳━━━━━━━━━━━━━━━━━━━━━━━━━━━━━┳━━━━━━━━━━━━━━━━━┓\n",
              "┃\u001b[1m \u001b[0m\u001b[1mLayer (type)                        \u001b[0m\u001b[1m \u001b[0m┃\u001b[1m \u001b[0m\u001b[1mOutput Shape               \u001b[0m\u001b[1m \u001b[0m┃\u001b[1m \u001b[0m\u001b[1m        Param #\u001b[0m\u001b[1m \u001b[0m┃\n",
              "┡━━━━━━━━━━━━━━━━━━━━━━━━━━━━━━━━━━━━━━╇━━━━━━━━━━━━━━━━━━━━━━━━━━━━━╇━━━━━━━━━━━━━━━━━┩\n",
              "│ input_layer_9 (\u001b[38;5;33mInputLayer\u001b[0m)           │ (\u001b[38;5;45mNone\u001b[0m, \u001b[38;5;34m64\u001b[0m, \u001b[38;5;34m64\u001b[0m, \u001b[38;5;34m3\u001b[0m)           │               \u001b[38;5;34m0\u001b[0m │\n",
              "├──────────────────────────────────────┼─────────────────────────────┼─────────────────┤\n",
              "│ mobilenetv2_1.00_224 (\u001b[38;5;33mFunctional\u001b[0m)    │ (\u001b[38;5;45mNone\u001b[0m, \u001b[38;5;34m2\u001b[0m, \u001b[38;5;34m2\u001b[0m, \u001b[38;5;34m1280\u001b[0m)          │       \u001b[38;5;34m2,257,984\u001b[0m │\n",
              "├──────────────────────────────────────┼─────────────────────────────┼─────────────────┤\n",
              "│ flatten_2 (\u001b[38;5;33mFlatten\u001b[0m)                  │ (\u001b[38;5;45mNone\u001b[0m, \u001b[38;5;34m5120\u001b[0m)                │               \u001b[38;5;34m0\u001b[0m │\n",
              "├──────────────────────────────────────┼─────────────────────────────┼─────────────────┤\n",
              "│ dense_10 (\u001b[38;5;33mDense\u001b[0m)                     │ (\u001b[38;5;45mNone\u001b[0m, \u001b[38;5;34m256\u001b[0m)                 │       \u001b[38;5;34m1,310,976\u001b[0m │\n",
              "├──────────────────────────────────────┼─────────────────────────────┼─────────────────┤\n",
              "│ dropout_6 (\u001b[38;5;33mDropout\u001b[0m)                  │ (\u001b[38;5;45mNone\u001b[0m, \u001b[38;5;34m256\u001b[0m)                 │               \u001b[38;5;34m0\u001b[0m │\n",
              "├──────────────────────────────────────┼─────────────────────────────┼─────────────────┤\n",
              "│ dense_11 (\u001b[38;5;33mDense\u001b[0m)                     │ (\u001b[38;5;45mNone\u001b[0m, \u001b[38;5;34m85\u001b[0m)                  │          \u001b[38;5;34m21,845\u001b[0m │\n",
              "└──────────────────────────────────────┴─────────────────────────────┴─────────────────┘\n"
            ],
            "text/html": [
              "<pre style=\"white-space:pre;overflow-x:auto;line-height:normal;font-family:Menlo,'DejaVu Sans Mono',consolas,'Courier New',monospace\">┏━━━━━━━━━━━━━━━━━━━━━━━━━━━━━━━━━━━━━━┳━━━━━━━━━━━━━━━━━━━━━━━━━━━━━┳━━━━━━━━━━━━━━━━━┓\n",
              "┃<span style=\"font-weight: bold\"> Layer (type)                         </span>┃<span style=\"font-weight: bold\"> Output Shape                </span>┃<span style=\"font-weight: bold\">         Param # </span>┃\n",
              "┡━━━━━━━━━━━━━━━━━━━━━━━━━━━━━━━━━━━━━━╇━━━━━━━━━━━━━━━━━━━━━━━━━━━━━╇━━━━━━━━━━━━━━━━━┩\n",
              "│ input_layer_9 (<span style=\"color: #0087ff; text-decoration-color: #0087ff\">InputLayer</span>)           │ (<span style=\"color: #00d7ff; text-decoration-color: #00d7ff\">None</span>, <span style=\"color: #00af00; text-decoration-color: #00af00\">64</span>, <span style=\"color: #00af00; text-decoration-color: #00af00\">64</span>, <span style=\"color: #00af00; text-decoration-color: #00af00\">3</span>)           │               <span style=\"color: #00af00; text-decoration-color: #00af00\">0</span> │\n",
              "├──────────────────────────────────────┼─────────────────────────────┼─────────────────┤\n",
              "│ mobilenetv2_1.00_224 (<span style=\"color: #0087ff; text-decoration-color: #0087ff\">Functional</span>)    │ (<span style=\"color: #00d7ff; text-decoration-color: #00d7ff\">None</span>, <span style=\"color: #00af00; text-decoration-color: #00af00\">2</span>, <span style=\"color: #00af00; text-decoration-color: #00af00\">2</span>, <span style=\"color: #00af00; text-decoration-color: #00af00\">1280</span>)          │       <span style=\"color: #00af00; text-decoration-color: #00af00\">2,257,984</span> │\n",
              "├──────────────────────────────────────┼─────────────────────────────┼─────────────────┤\n",
              "│ flatten_2 (<span style=\"color: #0087ff; text-decoration-color: #0087ff\">Flatten</span>)                  │ (<span style=\"color: #00d7ff; text-decoration-color: #00d7ff\">None</span>, <span style=\"color: #00af00; text-decoration-color: #00af00\">5120</span>)                │               <span style=\"color: #00af00; text-decoration-color: #00af00\">0</span> │\n",
              "├──────────────────────────────────────┼─────────────────────────────┼─────────────────┤\n",
              "│ dense_10 (<span style=\"color: #0087ff; text-decoration-color: #0087ff\">Dense</span>)                     │ (<span style=\"color: #00d7ff; text-decoration-color: #00d7ff\">None</span>, <span style=\"color: #00af00; text-decoration-color: #00af00\">256</span>)                 │       <span style=\"color: #00af00; text-decoration-color: #00af00\">1,310,976</span> │\n",
              "├──────────────────────────────────────┼─────────────────────────────┼─────────────────┤\n",
              "│ dropout_6 (<span style=\"color: #0087ff; text-decoration-color: #0087ff\">Dropout</span>)                  │ (<span style=\"color: #00d7ff; text-decoration-color: #00d7ff\">None</span>, <span style=\"color: #00af00; text-decoration-color: #00af00\">256</span>)                 │               <span style=\"color: #00af00; text-decoration-color: #00af00\">0</span> │\n",
              "├──────────────────────────────────────┼─────────────────────────────┼─────────────────┤\n",
              "│ dense_11 (<span style=\"color: #0087ff; text-decoration-color: #0087ff\">Dense</span>)                     │ (<span style=\"color: #00d7ff; text-decoration-color: #00d7ff\">None</span>, <span style=\"color: #00af00; text-decoration-color: #00af00\">85</span>)                  │          <span style=\"color: #00af00; text-decoration-color: #00af00\">21,845</span> │\n",
              "└──────────────────────────────────────┴─────────────────────────────┴─────────────────┘\n",
              "</pre>\n"
            ]
          },
          "metadata": {}
        },
        {
          "output_type": "display_data",
          "data": {
            "text/plain": [
              "\u001b[1m Total params: \u001b[0m\u001b[38;5;34m3,590,805\u001b[0m (13.70 MB)\n"
            ],
            "text/html": [
              "<pre style=\"white-space:pre;overflow-x:auto;line-height:normal;font-family:Menlo,'DejaVu Sans Mono',consolas,'Courier New',monospace\"><span style=\"font-weight: bold\"> Total params: </span><span style=\"color: #00af00; text-decoration-color: #00af00\">3,590,805</span> (13.70 MB)\n",
              "</pre>\n"
            ]
          },
          "metadata": {}
        },
        {
          "output_type": "display_data",
          "data": {
            "text/plain": [
              "\u001b[1m Trainable params: \u001b[0m\u001b[38;5;34m3,194,261\u001b[0m (12.19 MB)\n"
            ],
            "text/html": [
              "<pre style=\"white-space:pre;overflow-x:auto;line-height:normal;font-family:Menlo,'DejaVu Sans Mono',consolas,'Courier New',monospace\"><span style=\"font-weight: bold\"> Trainable params: </span><span style=\"color: #00af00; text-decoration-color: #00af00\">3,194,261</span> (12.19 MB)\n",
              "</pre>\n"
            ]
          },
          "metadata": {}
        },
        {
          "output_type": "display_data",
          "data": {
            "text/plain": [
              "\u001b[1m Non-trainable params: \u001b[0m\u001b[38;5;34m396,544\u001b[0m (1.51 MB)\n"
            ],
            "text/html": [
              "<pre style=\"white-space:pre;overflow-x:auto;line-height:normal;font-family:Menlo,'DejaVu Sans Mono',consolas,'Courier New',monospace\"><span style=\"font-weight: bold\"> Non-trainable params: </span><span style=\"color: #00af00; text-decoration-color: #00af00\">396,544</span> (1.51 MB)\n",
              "</pre>\n"
            ]
          },
          "metadata": {}
        }
      ]
    },
    {
      "cell_type": "code",
      "source": [
        "from tensorflow.keras.preprocessing.image import ImageDataGenerator\n",
        "\n",
        "# ✅ Optimized Data Augmentation\n",
        "train_datagen = ImageDataGenerator(\n",
        "    rotation_range=15,      # Reduce rotation (avoid over-distorting hand shapes)\n",
        "    zoom_range=0.1,         # Smaller zoom\n",
        "    horizontal_flip=False,  # Do NOT flip (left vs. right-hand signs are different)\n",
        "    width_shift_range=0.05, # Small shifts to avoid misalignment\n",
        "    height_shift_range=0.05\n",
        ")\n",
        "\n",
        "test_datagen = ImageDataGenerator()  # No augmentation for test set\n",
        "\n",
        "# ✅ Apply augmentation to training & testing data\n",
        "train_generator = train_datagen.flow(X_train, Y_train, batch_size=32)  # Increase batch size\n",
        "test_generator = test_datagen.flow(X_test, Y_test, batch_size=32)\n"
      ],
      "metadata": {
        "id": "hwi8Bp0wKvvC"
      },
      "execution_count": null,
      "outputs": []
    },
    {
      "cell_type": "code",
      "source": [
        "from tensorflow.keras.callbacks import EarlyStopping, ReduceLROnPlateau, ModelCheckpoint\n",
        "\n",
        "# ✅ Prevent Overfitting & Optimize Learning\n",
        "early_stopping = EarlyStopping(monitor='val_loss', patience=10, restore_best_weights=True)\n",
        "reduce_lr = ReduceLROnPlateau(monitor='val_loss', factor=0.5, patience=3)\n",
        "checkpoint = ModelCheckpoint(\"/content/gscnn_best_model.keras\", save_best_only=True, monitor='val_loss', mode='min')\n",
        "\n",
        "# ✅ Train Model (Prevent Crashes & Overfitting)\n",
        "gscnn_model.fit(train_generator, validation_data=test_generator, epochs=30, batch_size=32, callbacks=[early_stopping, reduce_lr, checkpoint])\n"
      ],
      "metadata": {
        "colab": {
          "base_uri": "https://localhost:8080/"
        },
        "id": "zJYSqTN0LRSa",
        "outputId": "c8e42f77-24ab-4e13-d40f-673993f8f761"
      },
      "execution_count": null,
      "outputs": [
        {
          "output_type": "stream",
          "name": "stdout",
          "text": [
            "Epoch 1/30\n",
            "\u001b[1m107/107\u001b[0m \u001b[32m━━━━━━━━━━━━━━━━━━━━\u001b[0m\u001b[37m\u001b[0m \u001b[1m39s\u001b[0m 169ms/step - accuracy: 0.0151 - loss: 10.2717 - val_accuracy: 0.0059 - val_loss: 9.2494 - learning_rate: 5.0000e-05\n",
            "Epoch 2/30\n",
            "\u001b[1m107/107\u001b[0m \u001b[32m━━━━━━━━━━━━━━━━━━━━\u001b[0m\u001b[37m\u001b[0m \u001b[1m6s\u001b[0m 54ms/step - accuracy: 0.0399 - loss: 9.1648 - val_accuracy: 0.0176 - val_loss: 9.0128 - learning_rate: 5.0000e-05\n",
            "Epoch 3/30\n",
            "\u001b[1m107/107\u001b[0m \u001b[32m━━━━━━━━━━━━━━━━━━━━\u001b[0m\u001b[37m\u001b[0m \u001b[1m10s\u001b[0m 50ms/step - accuracy: 0.0555 - loss: 8.8493 - val_accuracy: 0.0365 - val_loss: 8.7721 - learning_rate: 5.0000e-05\n",
            "Epoch 4/30\n",
            "\u001b[1m107/107\u001b[0m \u001b[32m━━━━━━━━━━━━━━━━━━━━\u001b[0m\u001b[37m\u001b[0m \u001b[1m10s\u001b[0m 49ms/step - accuracy: 0.0913 - loss: 8.6022 - val_accuracy: 0.0624 - val_loss: 8.5068 - learning_rate: 5.0000e-05\n",
            "Epoch 5/30\n",
            "\u001b[1m107/107\u001b[0m \u001b[32m━━━━━━━━━━━━━━━━━━━━\u001b[0m\u001b[37m\u001b[0m \u001b[1m6s\u001b[0m 60ms/step - accuracy: 0.1204 - loss: 8.2798 - val_accuracy: 0.0918 - val_loss: 8.1847 - learning_rate: 5.0000e-05\n",
            "Epoch 6/30\n",
            "\u001b[1m107/107\u001b[0m \u001b[32m━━━━━━━━━━━━━━━━━━━━\u001b[0m\u001b[37m\u001b[0m \u001b[1m5s\u001b[0m 50ms/step - accuracy: 0.1550 - loss: 7.9399 - val_accuracy: 0.1106 - val_loss: 7.8996 - learning_rate: 5.0000e-05\n",
            "Epoch 7/30\n",
            "\u001b[1m107/107\u001b[0m \u001b[32m━━━━━━━━━━━━━━━━━━━━\u001b[0m\u001b[37m\u001b[0m \u001b[1m6s\u001b[0m 53ms/step - accuracy: 0.2099 - loss: 7.5975 - val_accuracy: 0.1576 - val_loss: 7.5182 - learning_rate: 5.0000e-05\n",
            "Epoch 8/30\n",
            "\u001b[1m107/107\u001b[0m \u001b[32m━━━━━━━━━━━━━━━━━━━━\u001b[0m\u001b[37m\u001b[0m \u001b[1m10s\u001b[0m 49ms/step - accuracy: 0.2357 - loss: 7.2850 - val_accuracy: 0.2259 - val_loss: 7.1232 - learning_rate: 5.0000e-05\n",
            "Epoch 9/30\n",
            "\u001b[1m107/107\u001b[0m \u001b[32m━━━━━━━━━━━━━━━━━━━━\u001b[0m\u001b[37m\u001b[0m \u001b[1m7s\u001b[0m 63ms/step - accuracy: 0.2761 - loss: 6.9385 - val_accuracy: 0.2800 - val_loss: 6.7583 - learning_rate: 5.0000e-05\n",
            "Epoch 10/30\n",
            "\u001b[1m107/107\u001b[0m \u001b[32m━━━━━━━━━━━━━━━━━━━━\u001b[0m\u001b[37m\u001b[0m \u001b[1m5s\u001b[0m 49ms/step - accuracy: 0.3019 - loss: 6.6873 - val_accuracy: 0.3259 - val_loss: 6.4044 - learning_rate: 5.0000e-05\n",
            "Epoch 11/30\n",
            "\u001b[1m107/107\u001b[0m \u001b[32m━━━━━━━━━━━━━━━━━━━━\u001b[0m\u001b[37m\u001b[0m \u001b[1m6s\u001b[0m 60ms/step - accuracy: 0.3562 - loss: 6.3874 - val_accuracy: 0.3812 - val_loss: 6.0305 - learning_rate: 5.0000e-05\n",
            "Epoch 12/30\n",
            "\u001b[1m107/107\u001b[0m \u001b[32m━━━━━━━━━━━━━━━━━━━━\u001b[0m\u001b[37m\u001b[0m \u001b[1m5s\u001b[0m 50ms/step - accuracy: 0.3899 - loss: 6.1420 - val_accuracy: 0.3753 - val_loss: 5.7640 - learning_rate: 5.0000e-05\n",
            "Epoch 13/30\n",
            "\u001b[1m107/107\u001b[0m \u001b[32m━━━━━━━━━━━━━━━━━━━━\u001b[0m\u001b[37m\u001b[0m \u001b[1m6s\u001b[0m 54ms/step - accuracy: 0.4218 - loss: 5.8799 - val_accuracy: 0.4200 - val_loss: 5.5394 - learning_rate: 5.0000e-05\n",
            "Epoch 14/30\n",
            "\u001b[1m107/107\u001b[0m \u001b[32m━━━━━━━━━━━━━━━━━━━━\u001b[0m\u001b[37m\u001b[0m \u001b[1m7s\u001b[0m 61ms/step - accuracy: 0.4602 - loss: 5.6333 - val_accuracy: 0.4765 - val_loss: 5.2350 - learning_rate: 5.0000e-05\n",
            "Epoch 15/30\n",
            "\u001b[1m107/107\u001b[0m \u001b[32m━━━━━━━━━━━━━━━━━━━━\u001b[0m\u001b[37m\u001b[0m \u001b[1m5s\u001b[0m 50ms/step - accuracy: 0.4791 - loss: 5.4204 - val_accuracy: 0.5165 - val_loss: 4.9789 - learning_rate: 5.0000e-05\n",
            "Epoch 16/30\n",
            "\u001b[1m107/107\u001b[0m \u001b[32m━━━━━━━━━━━━━━━━━━━━\u001b[0m\u001b[37m\u001b[0m \u001b[1m10s\u001b[0m 50ms/step - accuracy: 0.5205 - loss: 5.2284 - val_accuracy: 0.5494 - val_loss: 4.7975 - learning_rate: 5.0000e-05\n",
            "Epoch 17/30\n",
            "\u001b[1m107/107\u001b[0m \u001b[32m━━━━━━━━━━━━━━━━━━━━\u001b[0m\u001b[37m\u001b[0m \u001b[1m7s\u001b[0m 63ms/step - accuracy: 0.5417 - loss: 5.0122 - val_accuracy: 0.5776 - val_loss: 4.6702 - learning_rate: 5.0000e-05\n",
            "Epoch 18/30\n",
            "\u001b[1m107/107\u001b[0m \u001b[32m━━━━━━━━━━━━━━━━━━━━\u001b[0m\u001b[37m\u001b[0m \u001b[1m5s\u001b[0m 49ms/step - accuracy: 0.5284 - loss: 4.9335 - val_accuracy: 0.6082 - val_loss: 4.4702 - learning_rate: 5.0000e-05\n",
            "Epoch 19/30\n",
            "\u001b[1m107/107\u001b[0m \u001b[32m━━━━━━━━━━━━━━━━━━━━\u001b[0m\u001b[37m\u001b[0m \u001b[1m10s\u001b[0m 50ms/step - accuracy: 0.5656 - loss: 4.7545 - val_accuracy: 0.6224 - val_loss: 4.3162 - learning_rate: 5.0000e-05\n",
            "Epoch 20/30\n",
            "\u001b[1m107/107\u001b[0m \u001b[32m━━━━━━━━━━━━━━━━━━━━\u001b[0m\u001b[37m\u001b[0m \u001b[1m5s\u001b[0m 50ms/step - accuracy: 0.5933 - loss: 4.4994 - val_accuracy: 0.6259 - val_loss: 4.2348 - learning_rate: 5.0000e-05\n",
            "Epoch 21/30\n",
            "\u001b[1m107/107\u001b[0m \u001b[32m━━━━━━━━━━━━━━━━━━━━\u001b[0m\u001b[37m\u001b[0m \u001b[1m7s\u001b[0m 60ms/step - accuracy: 0.6020 - loss: 4.4203 - val_accuracy: 0.6553 - val_loss: 4.0532 - learning_rate: 5.0000e-05\n",
            "Epoch 22/30\n",
            "\u001b[1m107/107\u001b[0m \u001b[32m━━━━━━━━━━━━━━━━━━━━\u001b[0m\u001b[37m\u001b[0m \u001b[1m5s\u001b[0m 50ms/step - accuracy: 0.6073 - loss: 4.2908 - val_accuracy: 0.6553 - val_loss: 4.0145 - learning_rate: 5.0000e-05\n",
            "Epoch 23/30\n",
            "\u001b[1m107/107\u001b[0m \u001b[32m━━━━━━━━━━━━━━━━━━━━\u001b[0m\u001b[37m\u001b[0m \u001b[1m7s\u001b[0m 61ms/step - accuracy: 0.6176 - loss: 4.1822 - val_accuracy: 0.6906 - val_loss: 3.8601 - learning_rate: 5.0000e-05\n",
            "Epoch 24/30\n",
            "\u001b[1m107/107\u001b[0m \u001b[32m━━━━━━━━━━━━━━━━━━━━\u001b[0m\u001b[37m\u001b[0m \u001b[1m5s\u001b[0m 49ms/step - accuracy: 0.6372 - loss: 4.0500 - val_accuracy: 0.7118 - val_loss: 3.7238 - learning_rate: 5.0000e-05\n",
            "Epoch 25/30\n",
            "\u001b[1m107/107\u001b[0m \u001b[32m━━━━━━━━━━━━━━━━━━━━\u001b[0m\u001b[37m\u001b[0m \u001b[1m6s\u001b[0m 60ms/step - accuracy: 0.6680 - loss: 3.8768 - val_accuracy: 0.7306 - val_loss: 3.5541 - learning_rate: 5.0000e-05\n",
            "Epoch 26/30\n",
            "\u001b[1m107/107\u001b[0m \u001b[32m━━━━━━━━━━━━━━━━━━━━\u001b[0m\u001b[37m\u001b[0m \u001b[1m5s\u001b[0m 49ms/step - accuracy: 0.6749 - loss: 3.7391 - val_accuracy: 0.7576 - val_loss: 3.4573 - learning_rate: 5.0000e-05\n",
            "Epoch 27/30\n",
            "\u001b[1m107/107\u001b[0m \u001b[32m━━━━━━━━━━━━━━━━━━━━\u001b[0m\u001b[37m\u001b[0m \u001b[1m6s\u001b[0m 53ms/step - accuracy: 0.6753 - loss: 3.6908 - val_accuracy: 0.7671 - val_loss: 3.3050 - learning_rate: 5.0000e-05\n",
            "Epoch 28/30\n",
            "\u001b[1m107/107\u001b[0m \u001b[32m━━━━━━━━━━━━━━━━━━━━\u001b[0m\u001b[37m\u001b[0m \u001b[1m10s\u001b[0m 49ms/step - accuracy: 0.7002 - loss: 3.5528 - val_accuracy: 0.7706 - val_loss: 3.2369 - learning_rate: 5.0000e-05\n",
            "Epoch 29/30\n",
            "\u001b[1m107/107\u001b[0m \u001b[32m━━━━━━━━━━━━━━━━━━━━\u001b[0m\u001b[37m\u001b[0m \u001b[1m7s\u001b[0m 61ms/step - accuracy: 0.7097 - loss: 3.4358 - val_accuracy: 0.7600 - val_loss: 3.2052 - learning_rate: 5.0000e-05\n",
            "Epoch 30/30\n",
            "\u001b[1m107/107\u001b[0m \u001b[32m━━━━━━━━━━━━━━━━━━━━\u001b[0m\u001b[37m\u001b[0m \u001b[1m5s\u001b[0m 49ms/step - accuracy: 0.7120 - loss: 3.3551 - val_accuracy: 0.7882 - val_loss: 3.0392 - learning_rate: 5.0000e-05\n"
          ]
        },
        {
          "output_type": "execute_result",
          "data": {
            "text/plain": [
              "<keras.src.callbacks.history.History at 0x7917f3e39350>"
            ]
          },
          "metadata": {},
          "execution_count": 27
        }
      ]
    },
    {
      "cell_type": "code",
      "source": [
        "import matplotlib.pyplot as plt\n",
        "\n",
        "history = gscnn_model.history.history\n",
        "\n",
        "plt.plot(history['accuracy'], label='train accuracy')\n",
        "plt.plot(history['val_accuracy'], label='val accuracy')\n",
        "plt.legend()\n",
        "plt.show()\n"
      ],
      "metadata": {
        "colab": {
          "base_uri": "https://localhost:8080/",
          "height": 430
        },
        "id": "Gsg5Ze-rD6IY",
        "outputId": "570f85e2-de0d-4d18-896b-016688b11fb0"
      },
      "execution_count": null,
      "outputs": [
        {
          "output_type": "display_data",
          "data": {
            "text/plain": [
              "<Figure size 640x480 with 1 Axes>"
            ],
            "image/png": "[encoded data removed]"
          },
          "metadata": {}
        }
      ]
    },
    {
      "cell_type": "code",
      "source": [
        "# ✅ Fine-Tuned Model (Unfreeze MobileNetV2)\n",
        "gscnn_model = build_gscnn(input_shape=(64, 64, 3), num_classes=85)\n",
        "\n",
        "# ✅ Optimized Data Augmentation\n",
        "train_generator = train_datagen.flow(X_train, Y_train, batch_size=32)\n",
        "test_generator = test_datagen.flow(X_test, Y_test, batch_size=32)\n",
        "\n",
        "# ✅ Train Model\n",
        "gscnn_model.fit(train_generator, validation_data=test_generator, epochs=30, batch_size=32, callbacks=[early_stopping, reduce_lr, checkpoint])\n"
      ],
      "metadata": {
        "colab": {
          "base_uri": "https://localhost:8080/"
        },
        "id": "BGs125gfK65n",
        "outputId": "ff0133dd-0794-4105-8315-20842d72c4df"
      },
      "execution_count": null,
      "outputs": [
        {
          "output_type": "stream",
          "name": "stderr",
          "text": [
            "<ipython-input-25-8c1755fa05f2>:7: UserWarning: `input_shape` is undefined or non-square, or `rows` is not in [96, 128, 160, 192, 224]. Weights for input shape (224, 224) will be loaded as the default.\n",
            "  base_model = MobileNetV2(input_shape=input_shape, include_top=False, weights=\"imagenet\")\n"
          ]
        },
        {
          "output_type": "stream",
          "name": "stdout",
          "text": [
            "Epoch 1/30\n",
            "\u001b[1m107/107\u001b[0m \u001b[32m━━━━━━━━━━━━━━━━━━━━\u001b[0m\u001b[37m\u001b[0m \u001b[1m39s\u001b[0m 181ms/step - accuracy: 0.0179 - loss: 10.2412 - val_accuracy: 0.0318 - val_loss: 9.1909 - learning_rate: 5.0000e-05\n",
            "Epoch 2/30\n",
            "\u001b[1m107/107\u001b[0m \u001b[32m━━━━━━━━━━━━━━━━━━━━\u001b[0m\u001b[37m\u001b[0m \u001b[1m8s\u001b[0m 71ms/step - accuracy: 0.0465 - loss: 9.1900 - val_accuracy: 0.0341 - val_loss: 8.9287 - learning_rate: 5.0000e-05\n",
            "Epoch 3/30\n",
            "\u001b[1m107/107\u001b[0m \u001b[32m━━━━━━━━━━━━━━━━━━━━\u001b[0m\u001b[37m\u001b[0m \u001b[1m5s\u001b[0m 44ms/step - accuracy: 0.0785 - loss: 8.7823 - val_accuracy: 0.0624 - val_loss: 8.6906 - learning_rate: 5.0000e-05\n",
            "Epoch 4/30\n",
            "\u001b[1m107/107\u001b[0m \u001b[32m━━━━━━━━━━━━━━━━━━━━\u001b[0m\u001b[37m\u001b[0m \u001b[1m5s\u001b[0m 49ms/step - accuracy: 0.0944 - loss: 8.5498 - val_accuracy: 0.0929 - val_loss: 8.3930 - learning_rate: 5.0000e-05\n",
            "Epoch 5/30\n",
            "\u001b[1m107/107\u001b[0m \u001b[32m━━━━━━━━━━━━━━━━━━━━\u001b[0m\u001b[37m\u001b[0m \u001b[1m5s\u001b[0m 50ms/step - accuracy: 0.1276 - loss: 8.2130 - val_accuracy: 0.1341 - val_loss: 8.0961 - learning_rate: 5.0000e-05\n",
            "Epoch 6/30\n",
            "\u001b[1m107/107\u001b[0m \u001b[32m━━━━━━━━━━━━━━━━━━━━\u001b[0m\u001b[37m\u001b[0m \u001b[1m5s\u001b[0m 44ms/step - accuracy: 0.1730 - loss: 7.8717 - val_accuracy: 0.1576 - val_loss: 7.8328 - learning_rate: 5.0000e-05\n",
            "Epoch 7/30\n",
            "\u001b[1m107/107\u001b[0m \u001b[32m━━━━━━━━━━━━━━━━━━━━\u001b[0m\u001b[37m\u001b[0m \u001b[1m6s\u001b[0m 57ms/step - accuracy: 0.1998 - loss: 7.5836 - val_accuracy: 0.2024 - val_loss: 7.5094 - learning_rate: 5.0000e-05\n",
            "Epoch 8/30\n",
            "\u001b[1m107/107\u001b[0m \u001b[32m━━━━━━━━━━━━━━━━━━━━\u001b[0m\u001b[37m\u001b[0m \u001b[1m5s\u001b[0m 45ms/step - accuracy: 0.2561 - loss: 7.2246 - val_accuracy: 0.2682 - val_loss: 7.1102 - learning_rate: 5.0000e-05\n",
            "Epoch 9/30\n",
            "\u001b[1m107/107\u001b[0m \u001b[32m━━━━━━━━━━━━━━━━━━━━\u001b[0m\u001b[37m\u001b[0m \u001b[1m5s\u001b[0m 46ms/step - accuracy: 0.2960 - loss: 6.9020 - val_accuracy: 0.3176 - val_loss: 6.6962 - learning_rate: 5.0000e-05\n",
            "Epoch 10/30\n",
            "\u001b[1m107/107\u001b[0m \u001b[32m━━━━━━━━━━━━━━━━━━━━\u001b[0m\u001b[37m\u001b[0m \u001b[1m6s\u001b[0m 52ms/step - accuracy: 0.3241 - loss: 6.6032 - val_accuracy: 0.3776 - val_loss: 6.2799 - learning_rate: 5.0000e-05\n",
            "Epoch 11/30\n",
            "\u001b[1m107/107\u001b[0m \u001b[32m━━━━━━━━━━━━━━━━━━━━\u001b[0m\u001b[37m\u001b[0m \u001b[1m5s\u001b[0m 43ms/step - accuracy: 0.3640 - loss: 6.3223 - val_accuracy: 0.4141 - val_loss: 5.9816 - learning_rate: 5.0000e-05\n",
            "Epoch 12/30\n",
            "\u001b[1m107/107\u001b[0m \u001b[32m━━━━━━━━━━━━━━━━━━━━\u001b[0m\u001b[37m\u001b[0m \u001b[1m6s\u001b[0m 56ms/step - accuracy: 0.3995 - loss: 6.0730 - val_accuracy: 0.4694 - val_loss: 5.6614 - learning_rate: 5.0000e-05\n",
            "Epoch 13/30\n",
            "\u001b[1m107/107\u001b[0m \u001b[32m━━━━━━━━━━━━━━━━━━━━\u001b[0m\u001b[37m\u001b[0m \u001b[1m5s\u001b[0m 44ms/step - accuracy: 0.4284 - loss: 5.8237 - val_accuracy: 0.4941 - val_loss: 5.3810 - learning_rate: 5.0000e-05\n",
            "Epoch 14/30\n",
            "\u001b[1m107/107\u001b[0m \u001b[32m━━━━━━━━━━━━━━━━━━━━\u001b[0m\u001b[37m\u001b[0m \u001b[1m5s\u001b[0m 44ms/step - accuracy: 0.4443 - loss: 5.5728 - val_accuracy: 0.5141 - val_loss: 5.2273 - learning_rate: 5.0000e-05\n",
            "Epoch 15/30\n",
            "\u001b[1m107/107\u001b[0m \u001b[32m━━━━━━━━━━━━━━━━━━━━\u001b[0m\u001b[37m\u001b[0m \u001b[1m6s\u001b[0m 54ms/step - accuracy: 0.4818 - loss: 5.3738 - val_accuracy: 0.5506 - val_loss: 4.9905 - learning_rate: 5.0000e-05\n",
            "Epoch 16/30\n",
            "\u001b[1m107/107\u001b[0m \u001b[32m━━━━━━━━━━━━━━━━━━━━\u001b[0m\u001b[37m\u001b[0m \u001b[1m5s\u001b[0m 45ms/step - accuracy: 0.5063 - loss: 5.1769 - val_accuracy: 0.5941 - val_loss: 4.7155 - learning_rate: 5.0000e-05\n",
            "Epoch 17/30\n",
            "\u001b[1m107/107\u001b[0m \u001b[32m━━━━━━━━━━━━━━━━━━━━\u001b[0m\u001b[37m\u001b[0m \u001b[1m6s\u001b[0m 56ms/step - accuracy: 0.5252 - loss: 5.0129 - val_accuracy: 0.6188 - val_loss: 4.5101 - learning_rate: 5.0000e-05\n",
            "Epoch 18/30\n",
            "\u001b[1m107/107\u001b[0m \u001b[32m━━━━━━━━━━━━━━━━━━━━\u001b[0m\u001b[37m\u001b[0m \u001b[1m5s\u001b[0m 44ms/step - accuracy: 0.5691 - loss: 4.7891 - val_accuracy: 0.6388 - val_loss: 4.3552 - learning_rate: 5.0000e-05\n",
            "Epoch 19/30\n",
            "\u001b[1m107/107\u001b[0m \u001b[32m━━━━━━━━━━━━━━━━━━━━\u001b[0m\u001b[37m\u001b[0m \u001b[1m5s\u001b[0m 44ms/step - accuracy: 0.5801 - loss: 4.6457 - val_accuracy: 0.6694 - val_loss: 4.1779 - learning_rate: 5.0000e-05\n",
            "Epoch 20/30\n",
            "\u001b[1m107/107\u001b[0m \u001b[32m━━━━━━━━━━━━━━━━━━━━\u001b[0m\u001b[37m\u001b[0m \u001b[1m6s\u001b[0m 53ms/step - accuracy: 0.5984 - loss: 4.5183 - val_accuracy: 0.6859 - val_loss: 4.0423 - learning_rate: 5.0000e-05\n",
            "Epoch 21/30\n",
            "\u001b[1m107/107\u001b[0m \u001b[32m━━━━━━━━━━━━━━━━━━━━\u001b[0m\u001b[37m\u001b[0m \u001b[1m5s\u001b[0m 43ms/step - accuracy: 0.6134 - loss: 4.3110 - val_accuracy: 0.6729 - val_loss: 3.9644 - learning_rate: 5.0000e-05\n",
            "Epoch 22/30\n",
            "\u001b[1m107/107\u001b[0m \u001b[32m━━━━━━━━━━━━━━━━━━━━\u001b[0m\u001b[37m\u001b[0m \u001b[1m6s\u001b[0m 57ms/step - accuracy: 0.6122 - loss: 4.2347 - val_accuracy: 0.6776 - val_loss: 3.8573 - learning_rate: 5.0000e-05\n",
            "Epoch 23/30\n",
            "\u001b[1m107/107\u001b[0m \u001b[32m━━━━━━━━━━━━━━━━━━━━\u001b[0m\u001b[37m\u001b[0m \u001b[1m5s\u001b[0m 43ms/step - accuracy: 0.6349 - loss: 4.1327 - val_accuracy: 0.7118 - val_loss: 3.7010 - learning_rate: 5.0000e-05\n",
            "Epoch 24/30\n",
            "\u001b[1m107/107\u001b[0m \u001b[32m━━━━━━━━━━━━━━━━━━━━\u001b[0m\u001b[37m\u001b[0m \u001b[1m5s\u001b[0m 43ms/step - accuracy: 0.6498 - loss: 3.9480 - val_accuracy: 0.7318 - val_loss: 3.5782 - learning_rate: 5.0000e-05\n",
            "Epoch 25/30\n",
            "\u001b[1m107/107\u001b[0m \u001b[32m━━━━━━━━━━━━━━━━━━━━\u001b[0m\u001b[37m\u001b[0m \u001b[1m6s\u001b[0m 56ms/step - accuracy: 0.6698 - loss: 3.8136 - val_accuracy: 0.7494 - val_loss: 3.4678 - learning_rate: 5.0000e-05\n",
            "Epoch 26/30\n",
            "\u001b[1m107/107\u001b[0m \u001b[32m━━━━━━━━━━━━━━━━━━━━\u001b[0m\u001b[37m\u001b[0m \u001b[1m5s\u001b[0m 44ms/step - accuracy: 0.6791 - loss: 3.7328 - val_accuracy: 0.7612 - val_loss: 3.3837 - learning_rate: 5.0000e-05\n",
            "Epoch 27/30\n",
            "\u001b[1m107/107\u001b[0m \u001b[32m━━━━━━━━━━━━━━━━━━━━\u001b[0m\u001b[37m\u001b[0m \u001b[1m6s\u001b[0m 56ms/step - accuracy: 0.6958 - loss: 3.5990 - val_accuracy: 0.7588 - val_loss: 3.2809 - learning_rate: 5.0000e-05\n",
            "Epoch 28/30\n",
            "\u001b[1m107/107\u001b[0m \u001b[32m━━━━━━━━━━━━━━━━━━━━\u001b[0m\u001b[37m\u001b[0m \u001b[1m5s\u001b[0m 44ms/step - accuracy: 0.7059 - loss: 3.5076 - val_accuracy: 0.7541 - val_loss: 3.2679 - learning_rate: 5.0000e-05\n",
            "Epoch 29/30\n",
            "\u001b[1m107/107\u001b[0m \u001b[32m━━━━━━━━━━━━━━━━━━━━\u001b[0m\u001b[37m\u001b[0m \u001b[1m5s\u001b[0m 44ms/step - accuracy: 0.7076 - loss: 3.3928 - val_accuracy: 0.7612 - val_loss: 3.1812 - learning_rate: 5.0000e-05\n",
            "Epoch 30/30\n",
            "\u001b[1m107/107\u001b[0m \u001b[32m━━━━━━━━━━━━━━━━━━━━\u001b[0m\u001b[37m\u001b[0m \u001b[1m6s\u001b[0m 56ms/step - accuracy: 0.7316 - loss: 3.2963 - val_accuracy: 0.7635 - val_loss: 3.1147 - learning_rate: 5.0000e-05\n"
          ]
        },
        {
          "output_type": "execute_result",
          "data": {
            "text/plain": [
              "<keras.src.callbacks.history.History at 0x791854067110>"
            ]
          },
          "metadata": {},
          "execution_count": 29
        }
      ]
    },
    {
      "cell_type": "code",
      "source": [
        "# Save the trained model\n",
        "gscnn_model.save(\"gscnn_sign_language_model.h5\")\n",
        "print(\"✅ Model saved successfully!\")\n"
      ],
      "metadata": {
        "colab": {
          "base_uri": "https://localhost:8080/"
        },
        "id": "NGjy-oAYOCuF",
        "outputId": "7ce4563f-b6fe-40a1-f1d2-82843add787a"
      },
      "execution_count": null,
      "outputs": [
        {
          "output_type": "stream",
          "name": "stderr",
          "text": [
            "WARNING:absl:You are saving your model as an HDF5 file via `model.save()` or `keras.saving.save_model(model)`. This file format is considered legacy. We recommend using instead the native Keras format, e.g. `model.save('my_model.keras')` or `keras.saving.save_model(model, 'my_model.keras')`. \n"
          ]
        },
        {
          "output_type": "stream",
          "name": "stdout",
          "text": [
            "✅ Model saved successfully!\n"
          ]
        }
      ]
    },
    {
      "cell_type": "code",
      "source": [
        "from tensorflow.keras.models import load_model\n",
        "import numpy as np\n",
        "\n",
        "# Load the saved model\n",
        "gscnn_model = load_model(\"gscnn_sign_language_model.h5\")\n",
        "print(\"✅ Model Loaded Successfully!\")\n",
        "\n",
        "# Evaluate on test set\n",
        "test_loss, test_accuracy = gscnn_model.evaluate(test_generator, verbose=1)\n",
        "\n",
        "print(f\"📌 Test Accuracy: {test_accuracy:.4f}\")\n",
        "print(f\"📌 Test Loss: {test_loss:.4f}\")\n"
      ],
      "metadata": {
        "colab": {
          "base_uri": "https://localhost:8080/"
        },
        "id": "NwegmDlxRXYL",
        "outputId": "3486f090-48cf-4c4e-a2f9-2201565131d1"
      },
      "execution_count": null,
      "outputs": [
        {
          "output_type": "stream",
          "name": "stderr",
          "text": [
            "WARNING:absl:Compiled the loaded model, but the compiled metrics have yet to be built. `model.compile_metrics` will be empty until you train or evaluate the model.\n"
          ]
        },
        {
          "output_type": "stream",
          "name": "stdout",
          "text": [
            "✅ Model Loaded Successfully!\n",
            "\u001b[1m27/27\u001b[0m \u001b[32m━━━━━━━━━━━━━━━━━━━━\u001b[0m\u001b[37m\u001b[0m \u001b[1m6s\u001b[0m 95ms/step - accuracy: 0.7686 - loss: 3.0064\n",
            "📌 Test Accuracy: 0.7741\n",
            "📌 Test Loss: 3.0335\n"
          ]
        }
      ]
    },
    {
      "cell_type": "code",
      "source": [
        "from sklearn.metrics import classification_report\n",
        "import numpy as np\n",
        "model = load_model(\"gscnn_sign_language_model.h5\")\n",
        "# Get predictions\n",
        "y_pred_probs = model.predict(X_test)  # Get probability outputs\n",
        "y_pred = np.argmax(y_pred_probs, axis=1)  # Convert probabilities to class labels\n",
        "y_true = np.argmax(Y_test, axis=1)  # True labels\n",
        "\n",
        "# Class labels (Ensure you replace this with actual sign language labels)\n",
        "class_labels = [f\"Sign_{i}\" for i in range(Y_test.shape[1])]\n",
        "\n",
        "# Compute and print classification report\n",
        "report = classification_report(y_true, y_pred, target_names=class_labels)\n",
        "print(report)\n"
      ],
      "metadata": {
        "colab": {
          "base_uri": "https://localhost:8080/"
        },
        "id": "vQ5G5_nvRpcf",
        "outputId": "1d097642-17f9-4334-e26d-4efee5f03f3a"
      },
      "execution_count": null,
      "outputs": [
        {
          "output_type": "stream",
          "name": "stderr",
          "text": [
            "WARNING:absl:Compiled the loaded model, but the compiled metrics have yet to be built. `model.compile_metrics` will be empty until you train or evaluate the model.\n"
          ]
        },
        {
          "output_type": "stream",
          "name": "stdout",
          "text": [
            "\u001b[1m27/27\u001b[0m \u001b[32m━━━━━━━━━━━━━━━━━━━━\u001b[0m\u001b[37m\u001b[0m \u001b[1m7s\u001b[0m 110ms/step\n",
            "              precision    recall  f1-score   support\n",
            "\n",
            "      Sign_0       0.90      1.00      0.95         9\n",
            "      Sign_1       0.75      0.86      0.80        14\n",
            "      Sign_2       0.00      0.00      0.00         2\n",
            "      Sign_3       0.88      0.78      0.82        18\n",
            "      Sign_4       0.83      0.56      0.67         9\n",
            "      Sign_5       0.75      1.00      0.86         9\n",
            "      Sign_6       0.83      1.00      0.91        10\n",
            "      Sign_7       1.00      1.00      1.00         1\n",
            "      Sign_8       0.73      1.00      0.84         8\n",
            "      Sign_9       1.00      1.00      1.00        13\n",
            "     Sign_10       1.00      0.56      0.71         9\n",
            "     Sign_11       1.00      1.00      1.00         4\n",
            "     Sign_12       0.67      0.86      0.75         7\n",
            "     Sign_13       0.74      0.85      0.79        27\n",
            "     Sign_14       1.00      0.33      0.50         6\n",
            "     Sign_15       1.00      0.71      0.83         7\n",
            "     Sign_16       1.00      0.53      0.69        17\n",
            "     Sign_17       0.38      1.00      0.56         5\n",
            "     Sign_18       0.84      0.76      0.80        21\n",
            "     Sign_19       0.29      1.00      0.44         2\n",
            "     Sign_20       0.67      0.33      0.44         6\n",
            "     Sign_21       0.42      1.00      0.59         5\n",
            "     Sign_22       1.00      0.44      0.62         9\n",
            "     Sign_23       1.00      0.88      0.93         8\n",
            "     Sign_24       0.89      0.53      0.67        15\n",
            "     Sign_25       0.76      1.00      0.86        19\n",
            "     Sign_26       0.44      0.67      0.53         6\n",
            "     Sign_27       0.75      1.00      0.86         3\n",
            "     Sign_28       0.84      0.84      0.84        19\n",
            "     Sign_29       0.77      0.77      0.77        13\n",
            "     Sign_30       0.00      0.00      0.00         1\n",
            "     Sign_31       0.71      0.74      0.73        27\n",
            "     Sign_32       0.78      1.00      0.88        14\n",
            "     Sign_33       1.00      0.59      0.75        32\n",
            "     Sign_34       0.00      0.00      0.00         4\n",
            "     Sign_35       0.00      0.00      0.00         1\n",
            "     Sign_36       1.00      0.86      0.92         7\n",
            "     Sign_37       1.00      1.00      1.00         6\n",
            "     Sign_38       0.67      1.00      0.80         4\n",
            "     Sign_39       0.83      0.88      0.86        17\n",
            "     Sign_40       0.88      0.88      0.88        16\n",
            "     Sign_41       0.71      0.88      0.79        25\n",
            "     Sign_42       1.00      0.88      0.93         8\n",
            "     Sign_43       0.40      0.25      0.31         8\n",
            "     Sign_44       0.75      0.75      0.75        16\n",
            "     Sign_45       1.00      0.80      0.89         5\n",
            "     Sign_46       1.00      0.60      0.75        20\n",
            "     Sign_47       0.89      0.80      0.84        10\n",
            "     Sign_48       1.00      1.00      1.00        10\n",
            "     Sign_49       0.40      0.50      0.44         4\n",
            "     Sign_50       0.92      1.00      0.96        11\n",
            "     Sign_51       1.00      0.86      0.92         7\n",
            "     Sign_52       0.00      0.00      0.00         2\n",
            "     Sign_53       0.75      0.75      0.75         4\n",
            "     Sign_54       0.89      1.00      0.94         8\n",
            "     Sign_55       0.50      0.50      0.50         6\n",
            "     Sign_56       0.69      1.00      0.82         9\n",
            "     Sign_57       1.00      0.92      0.96        25\n",
            "     Sign_58       0.83      1.00      0.91         5\n",
            "     Sign_59       0.71      0.71      0.71         7\n",
            "     Sign_60       1.00      0.78      0.88         9\n",
            "     Sign_61       0.60      0.21      0.32        14\n",
            "     Sign_62       0.67      0.33      0.44         6\n",
            "     Sign_63       1.00      0.60      0.75         5\n",
            "     Sign_64       0.83      0.62      0.71         8\n",
            "     Sign_65       0.86      0.86      0.86         7\n",
            "     Sign_66       0.46      1.00      0.63         6\n",
            "     Sign_67       0.69      0.60      0.64        15\n",
            "     Sign_68       1.00      0.96      0.98        23\n",
            "     Sign_69       1.00      0.33      0.50         6\n",
            "     Sign_70       0.00      0.00      0.00         6\n",
            "     Sign_71       0.24      0.86      0.38         7\n",
            "     Sign_72       0.60      0.86      0.71        14\n",
            "     Sign_73       1.00      0.93      0.96        14\n",
            "     Sign_74       0.67      1.00      0.80         6\n",
            "     Sign_75       1.00      0.78      0.88         9\n",
            "     Sign_76       0.50      0.50      0.50         2\n",
            "     Sign_77       0.67      1.00      0.80         8\n",
            "     Sign_78       1.00      1.00      1.00        11\n",
            "     Sign_79       0.77      1.00      0.87        20\n",
            "     Sign_80       0.47      0.89      0.62         9\n",
            "     Sign_81       0.80      0.73      0.76        11\n",
            "     Sign_82       1.00      0.20      0.33         5\n",
            "     Sign_83       0.67      1.00      0.80         2\n",
            "     Sign_84       1.00      0.57      0.73         7\n",
            "\n",
            "    accuracy                           0.77       850\n",
            "   macro avg       0.74      0.73      0.70       850\n",
            "weighted avg       0.81      0.77      0.77       850\n",
            "\n"
          ]
        },
        {
          "output_type": "stream",
          "name": "stderr",
          "text": [
            "/usr/local/lib/python3.11/dist-packages/sklearn/metrics/_classification.py:1565: UndefinedMetricWarning: Precision is ill-defined and being set to 0.0 in labels with no predicted samples. Use `zero_division` parameter to control this behavior.\n",
            "  _warn_prf(average, modifier, f\"{metric.capitalize()} is\", len(result))\n",
            "/usr/local/lib/python3.11/dist-packages/sklearn/metrics/_classification.py:1565: UndefinedMetricWarning: Precision is ill-defined and being set to 0.0 in labels with no predicted samples. Use `zero_division` parameter to control this behavior.\n",
            "  _warn_prf(average, modifier, f\"{metric.capitalize()} is\", len(result))\n",
            "/usr/local/lib/python3.11/dist-packages/sklearn/metrics/_classification.py:1565: UndefinedMetricWarning: Precision is ill-defined and being set to 0.0 in labels with no predicted samples. Use `zero_division` parameter to control this behavior.\n",
            "  _warn_prf(average, modifier, f\"{metric.capitalize()} is\", len(result))\n"
          ]
        }
      ]
    },
    {
      "cell_type": "code",
      "source": [],
      "metadata": {
        "id": "KuZPZn4-UpR8"
      },
      "execution_count": null,
      "outputs": []
    },
    {
      "cell_type": "code",
      "source": [
        "import seaborn as sns\n",
        "import matplotlib.pyplot as plt\n",
        "\n",
        "plt.figure(figsize=(12, 8))\n",
        "sns.heatmap(cm, annot=False, cmap=\"Blues\")\n",
        "plt.xlabel(\"Predicted Labels\")\n",
        "plt.ylabel(\"True Labels\")\n",
        "plt.title(\"Confusion Matrix\")\n",
        "plt.show()\n"
      ],
      "metadata": {
        "colab": {
          "base_uri": "https://localhost:8080/",
          "height": 722
        },
        "id": "xS8K04iUR3IT",
        "outputId": "0cb5f475-99d1-42eb-d1f4-f37cb2a22b08"
      },
      "execution_count": null,
      "outputs": [
        {
          "output_type": "display_data",
          "data": {
            "text/plain": [
              "<Figure size 1200x800 with 2 Axes>"
            ],
            "image/png": "[encoded data removed]"
          },
          "metadata": {}
        }
      ]
    }
  ]
}