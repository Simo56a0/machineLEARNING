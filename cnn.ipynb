{
  "nbformat": 4,
  "nbformat_minor": 0,
  "metadata": {
    "colab": {
      "provenance": [],
      "gpuType": "T4",
      "authorship_tag": "ABX9TyOjJYp1AfknaAeGrExyRNzg",
      "include_colab_link": true
    },
    "kernelspec": {
      "name": "python3",
      "display_name": "Python 3"
    },
    "language_info": {
      "name": "python"
    },
    "accelerator": "GPU",
    "widgets": {
      "application/vnd.jupyter.widget-state+json": {
        "b8a9d6805ff94557a6174b8360a90ded": {
          "model_module": "@jupyter-widgets/controls",
          "model_name": "VBoxModel",
          "model_module_version": "1.5.0",
          "state": {
            "_dom_classes": [],
            "_model_module": "@jupyter-widgets/controls",
            "_model_module_version": "1.5.0",
            "_model_name": "VBoxModel",
            "_view_count": null,
            "_view_module": "@jupyter-widgets/controls",
            "_view_module_version": "1.5.0",
            "_view_name": "VBoxView",
            "box_style": "",
            "children": [],
            "layout": "IPY_MODEL_e18a961c39174ab48aa234ea2ca1db85"
          }
        },
        "c9c09bfc24a64c12b6058e865d4f3515": {
          "model_module": "@jupyter-widgets/controls",
          "model_name": "HTMLModel",
          "model_module_version": "1.5.0",
          "state": {
            "_dom_classes": [],
            "_model_module": "@jupyter-widgets/controls",
            "_model_module_version": "1.5.0",
            "_model_name": "HTMLModel",
            "_view_count": null,
            "_view_module": "@jupyter-widgets/controls",
            "_view_module_version": "1.5.0",
            "_view_name": "HTMLView",
            "description": "",
            "description_tooltip": null,
            "layout": "IPY_MODEL_360d1e94c04046a687bb36e53daa6235",
            "placeholder": "​",
            "style": "IPY_MODEL_52a0e7e8e0c849ac96d05c8979f70bc8",
            "value": "<center> <img\nsrc=https://huggingface.co/front/assets/huggingface_logo-noborder.svg\nalt='Hugging Face'> <br> Copy a token from <a\nhref=\"https://huggingface.co/settings/tokens\" target=\"_blank\">your Hugging Face\ntokens page</a> and paste it below. <br> Immediately click login after copying\nyour token or it might be stored in plain text in this notebook file. </center>"
          }
        },
        "5af19cc66ec843f6ba1a7eba80ff5e60": {
          "model_module": "@jupyter-widgets/controls",
          "model_name": "PasswordModel",
          "model_module_version": "1.5.0",
          "state": {
            "_dom_classes": [],
            "_model_module": "@jupyter-widgets/controls",
            "_model_module_version": "1.5.0",
            "_model_name": "PasswordModel",
            "_view_count": null,
            "_view_module": "@jupyter-widgets/controls",
            "_view_module_version": "1.5.0",
            "_view_name": "PasswordView",
            "continuous_update": true,
            "description": "Token:",
            "description_tooltip": null,
            "disabled": false,
            "layout": "IPY_MODEL_73b80f4477fe40df8670f87fec2843cf",
            "placeholder": "​",
            "style": "IPY_MODEL_d1c51be5437845d1b290142fa5ca86ea",
            "value": ""
          }
        },
        "5d4ef86ccfd743009f69cb07cdd832f3": {
          "model_module": "@jupyter-widgets/controls",
          "model_name": "CheckboxModel",
          "model_module_version": "1.5.0",
          "state": {
            "_dom_classes": [],
            "_model_module": "@jupyter-widgets/controls",
            "_model_module_version": "1.5.0",
            "_model_name": "CheckboxModel",
            "_view_count": null,
            "_view_module": "@jupyter-widgets/controls",
            "_view_module_version": "1.5.0",
            "_view_name": "CheckboxView",
            "description": "Add token as git credential?",
            "description_tooltip": null,
            "disabled": false,
            "indent": true,
            "layout": "IPY_MODEL_5220d5d6aa4a4cceb0a7d2615807b04a",
            "style": "IPY_MODEL_f2290511546045c1bfe7f09776740870",
            "value": true
          }
        },
        "3f69eccae7e94e22a470f0e40012c3b5": {
          "model_module": "@jupyter-widgets/controls",
          "model_name": "ButtonModel",
          "model_module_version": "1.5.0",
          "state": {
            "_dom_classes": [],
            "_model_module": "@jupyter-widgets/controls",
            "_model_module_version": "1.5.0",
            "_model_name": "ButtonModel",
            "_view_count": null,
            "_view_module": "@jupyter-widgets/controls",
            "_view_module_version": "1.5.0",
            "_view_name": "ButtonView",
            "button_style": "",
            "description": "Login",
            "disabled": false,
            "icon": "",
            "layout": "IPY_MODEL_f1d3e291e4a24e65ba266a2fba801e7c",
            "style": "IPY_MODEL_8ce72b5a300140a6822a0f58ede5620f",
            "tooltip": ""
          }
        },
        "77b2902000d042339732f26a1fcf5444": {
          "model_module": "@jupyter-widgets/controls",
          "model_name": "HTMLModel",
          "model_module_version": "1.5.0",
          "state": {
            "_dom_classes": [],
            "_model_module": "@jupyter-widgets/controls",
            "_model_module_version": "1.5.0",
            "_model_name": "HTMLModel",
            "_view_count": null,
            "_view_module": "@jupyter-widgets/controls",
            "_view_module_version": "1.5.0",
            "_view_name": "HTMLView",
            "description": "",
            "description_tooltip": null,
            "layout": "IPY_MODEL_e33cdfc725b44ccb8ea5edc6287ac71a",
            "placeholder": "​",
            "style": "IPY_MODEL_ead0ccc500fa43049055f3682bf62058",
            "value": "\n<b>Pro Tip:</b> If you don't already have one, you can create a dedicated\n'notebooks' token with 'write' access, that you can then easily reuse for all\nnotebooks. </center>"
          }
        },
        "e18a961c39174ab48aa234ea2ca1db85": {
          "model_module": "@jupyter-widgets/base",
          "model_name": "LayoutModel",
          "model_module_version": "1.2.0",
          "state": {
            "_model_module": "@jupyter-widgets/base",
            "_model_module_version": "1.2.0",
            "_model_name": "LayoutModel",
            "_view_count": null,
            "_view_module": "@jupyter-widgets/base",
            "_view_module_version": "1.2.0",
            "_view_name": "LayoutView",
            "align_content": null,
            "align_items": "center",
            "align_self": null,
            "border": null,
            "bottom": null,
            "display": "flex",
            "flex": null,
            "flex_flow": "column",
            "grid_area": null,
            "grid_auto_columns": null,
            "grid_auto_flow": null,
            "grid_auto_rows": null,
            "grid_column": null,
            "grid_gap": null,
            "grid_row": null,
            "grid_template_areas": null,
            "grid_template_columns": null,
            "grid_template_rows": null,
            "height": null,
            "justify_content": null,
            "justify_items": null,
            "left": null,
            "margin": null,
            "max_height": null,
            "max_width": null,
            "min_height": null,
            "min_width": null,
            "object_fit": null,
            "object_position": null,
            "order": null,
            "overflow": null,
            "overflow_x": null,
            "overflow_y": null,
            "padding": null,
            "right": null,
            "top": null,
            "visibility": null,
            "width": "50%"
          }
        },
        "360d1e94c04046a687bb36e53daa6235": {
          "model_module": "@jupyter-widgets/base",
          "model_name": "LayoutModel",
          "model_module_version": "1.2.0",
          "state": {
            "_model_module": "@jupyter-widgets/base",
            "_model_module_version": "1.2.0",
            "_model_name": "LayoutModel",
            "_view_count": null,
            "_view_module": "@jupyter-widgets/base",
            "_view_module_version": "1.2.0",
            "_view_name": "LayoutView",
            "align_content": null,
            "align_items": null,
            "align_self": null,
            "border": null,
            "bottom": null,
            "display": null,
            "flex": null,
            "flex_flow": null,
            "grid_area": null,
            "grid_auto_columns": null,
            "grid_auto_flow": null,
            "grid_auto_rows": null,
            "grid_column": null,
            "grid_gap": null,
            "grid_row": null,
            "grid_template_areas": null,
            "grid_template_columns": null,
            "grid_template_rows": null,
            "height": null,
            "justify_content": null,
            "justify_items": null,
            "left": null,
            "margin": null,
            "max_height": null,
            "max_width": null,
            "min_height": null,
            "min_width": null,
            "object_fit": null,
            "object_position": null,
            "order": null,
            "overflow": null,
            "overflow_x": null,
            "overflow_y": null,
            "padding": null,
            "right": null,
            "top": null,
            "visibility": null,
            "width": null
          }
        },
        "52a0e7e8e0c849ac96d05c8979f70bc8": {
          "model_module": "@jupyter-widgets/controls",
          "model_name": "DescriptionStyleModel",
          "model_module_version": "1.5.0",
          "state": {
            "_model_module": "@jupyter-widgets/controls",
            "_model_module_version": "1.5.0",
            "_model_name": "DescriptionStyleModel",
            "_view_count": null,
            "_view_module": "@jupyter-widgets/base",
            "_view_module_version": "1.2.0",
            "_view_name": "StyleView",
            "description_width": ""
          }
        },
        "73b80f4477fe40df8670f87fec2843cf": {
          "model_module": "@jupyter-widgets/base",
          "model_name": "LayoutModel",
          "model_module_version": "1.2.0",
          "state": {
            "_model_module": "@jupyter-widgets/base",
            "_model_module_version": "1.2.0",
            "_model_name": "LayoutModel",
            "_view_count": null,
            "_view_module": "@jupyter-widgets/base",
            "_view_module_version": "1.2.0",
            "_view_name": "LayoutView",
            "align_content": null,
            "align_items": null,
            "align_self": null,
            "border": null,
            "bottom": null,
            "display": null,
            "flex": null,
            "flex_flow": null,
            "grid_area": null,
            "grid_auto_columns": null,
            "grid_auto_flow": null,
            "grid_auto_rows": null,
            "grid_column": null,
            "grid_gap": null,
            "grid_row": null,
            "grid_template_areas": null,
            "grid_template_columns": null,
            "grid_template_rows": null,
            "height": null,
            "justify_content": null,
            "justify_items": null,
            "left": null,
            "margin": null,
            "max_height": null,
            "max_width": null,
            "min_height": null,
            "min_width": null,
            "object_fit": null,
            "object_position": null,
            "order": null,
            "overflow": null,
            "overflow_x": null,
            "overflow_y": null,
            "padding": null,
            "right": null,
            "top": null,
            "visibility": null,
            "width": null
          }
        },
        "d1c51be5437845d1b290142fa5ca86ea": {
          "model_module": "@jupyter-widgets/controls",
          "model_name": "DescriptionStyleModel",
          "model_module_version": "1.5.0",
          "state": {
            "_model_module": "@jupyter-widgets/controls",
            "_model_module_version": "1.5.0",
            "_model_name": "DescriptionStyleModel",
            "_view_count": null,
            "_view_module": "@jupyter-widgets/base",
            "_view_module_version": "1.2.0",
            "_view_name": "StyleView",
            "description_width": ""
          }
        },
        "5220d5d6aa4a4cceb0a7d2615807b04a": {
          "model_module": "@jupyter-widgets/base",
          "model_name": "LayoutModel",
          "model_module_version": "1.2.0",
          "state": {
            "_model_module": "@jupyter-widgets/base",
            "_model_module_version": "1.2.0",
            "_model_name": "LayoutModel",
            "_view_count": null,
            "_view_module": "@jupyter-widgets/base",
            "_view_module_version": "1.2.0",
            "_view_name": "LayoutView",
            "align_content": null,
            "align_items": null,
            "align_self": null,
            "border": null,
            "bottom": null,
            "display": null,
            "flex": null,
            "flex_flow": null,
            "grid_area": null,
            "grid_auto_columns": null,
            "grid_auto_flow": null,
            "grid_auto_rows": null,
            "grid_column": null,
            "grid_gap": null,
            "grid_row": null,
            "grid_template_areas": null,
            "grid_template_columns": null,
            "grid_template_rows": null,
            "height": null,
            "justify_content": null,
            "justify_items": null,
            "left": null,
            "margin": null,
            "max_height": null,
            "max_width": null,
            "min_height": null,
            "min_width": null,
            "object_fit": null,
            "object_position": null,
            "order": null,
            "overflow": null,
            "overflow_x": null,
            "overflow_y": null,
            "padding": null,
            "right": null,
            "top": null,
            "visibility": null,
            "width": null
          }
        },
        "f2290511546045c1bfe7f09776740870": {
          "model_module": "@jupyter-widgets/controls",
          "model_name": "DescriptionStyleModel",
          "model_module_version": "1.5.0",
          "state": {
            "_model_module": "@jupyter-widgets/controls",
            "_model_module_version": "1.5.0",
            "_model_name": "DescriptionStyleModel",
            "_view_count": null,
            "_view_module": "@jupyter-widgets/base",
            "_view_module_version": "1.2.0",
            "_view_name": "StyleView",
            "description_width": ""
          }
        },
        "f1d3e291e4a24e65ba266a2fba801e7c": {
          "model_module": "@jupyter-widgets/base",
          "model_name": "LayoutModel",
          "model_module_version": "1.2.0",
          "state": {
            "_model_module": "@jupyter-widgets/base",
            "_model_module_version": "1.2.0",
            "_model_name": "LayoutModel",
            "_view_count": null,
            "_view_module": "@jupyter-widgets/base",
            "_view_module_version": "1.2.0",
            "_view_name": "LayoutView",
            "align_content": null,
            "align_items": null,
            "align_self": null,
            "border": null,
            "bottom": null,
            "display": null,
            "flex": null,
            "flex_flow": null,
            "grid_area": null,
            "grid_auto_columns": null,
            "grid_auto_flow": null,
            "grid_auto_rows": null,
            "grid_column": null,
            "grid_gap": null,
            "grid_row": null,
            "grid_template_areas": null,
            "grid_template_columns": null,
            "grid_template_rows": null,
            "height": null,
            "justify_content": null,
            "justify_items": null,
            "left": null,
            "margin": null,
            "max_height": null,
            "max_width": null,
            "min_height": null,
            "min_width": null,
            "object_fit": null,
            "object_position": null,
            "order": null,
            "overflow": null,
            "overflow_x": null,
            "overflow_y": null,
            "padding": null,
            "right": null,
            "top": null,
            "visibility": null,
            "width": null
          }
        },
        "8ce72b5a300140a6822a0f58ede5620f": {
          "model_module": "@jupyter-widgets/controls",
          "model_name": "ButtonStyleModel",
          "model_module_version": "1.5.0",
          "state": {
            "_model_module": "@jupyter-widgets/controls",
            "_model_module_version": "1.5.0",
            "_model_name": "ButtonStyleModel",
            "_view_count": null,
            "_view_module": "@jupyter-widgets/base",
            "_view_module_version": "1.2.0",
            "_view_name": "StyleView",
            "button_color": null,
            "font_weight": ""
          }
        },
        "e33cdfc725b44ccb8ea5edc6287ac71a": {
          "model_module": "@jupyter-widgets/base",
          "model_name": "LayoutModel",
          "model_module_version": "1.2.0",
          "state": {
            "_model_module": "@jupyter-widgets/base",
            "_model_module_version": "1.2.0",
            "_model_name": "LayoutModel",
            "_view_count": null,
            "_view_module": "@jupyter-widgets/base",
            "_view_module_version": "1.2.0",
            "_view_name": "LayoutView",
            "align_content": null,
            "align_items": null,
            "align_self": null,
            "border": null,
            "bottom": null,
            "display": null,
            "flex": null,
            "flex_flow": null,
            "grid_area": null,
            "grid_auto_columns": null,
            "grid_auto_flow": null,
            "grid_auto_rows": null,
            "grid_column": null,
            "grid_gap": null,
            "grid_row": null,
            "grid_template_areas": null,
            "grid_template_columns": null,
            "grid_template_rows": null,
            "height": null,
            "justify_content": null,
            "justify_items": null,
            "left": null,
            "margin": null,
            "max_height": null,
            "max_width": null,
            "min_height": null,
            "min_width": null,
            "object_fit": null,
            "object_position": null,
            "order": null,
            "overflow": null,
            "overflow_x": null,
            "overflow_y": null,
            "padding": null,
            "right": null,
            "top": null,
            "visibility": null,
            "width": null
          }
        },
        "ead0ccc500fa43049055f3682bf62058": {
          "model_module": "@jupyter-widgets/controls",
          "model_name": "DescriptionStyleModel",
          "model_module_version": "1.5.0",
          "state": {
            "_model_module": "@jupyter-widgets/controls",
            "_model_module_version": "1.5.0",
            "_model_name": "DescriptionStyleModel",
            "_view_count": null,
            "_view_module": "@jupyter-widgets/base",
            "_view_module_version": "1.2.0",
            "_view_name": "StyleView",
            "description_width": ""
          }
        },
        "f0d25992394a45e58b5205a909d4848a": {
          "model_module": "@jupyter-widgets/controls",
          "model_name": "LabelModel",
          "model_module_version": "1.5.0",
          "state": {
            "_dom_classes": [],
            "_model_module": "@jupyter-widgets/controls",
            "_model_module_version": "1.5.0",
            "_model_name": "LabelModel",
            "_view_count": null,
            "_view_module": "@jupyter-widgets/controls",
            "_view_module_version": "1.5.0",
            "_view_name": "LabelView",
            "description": "",
            "description_tooltip": null,
            "layout": "IPY_MODEL_83e0bae9e0524898a739eb62c893fea9",
            "placeholder": "​",
            "style": "IPY_MODEL_1e0e4a705457411faf69aae89fd063ef",
            "value": "Connecting..."
          }
        },
        "83e0bae9e0524898a739eb62c893fea9": {
          "model_module": "@jupyter-widgets/base",
          "model_name": "LayoutModel",
          "model_module_version": "1.2.0",
          "state": {
            "_model_module": "@jupyter-widgets/base",
            "_model_module_version": "1.2.0",
            "_model_name": "LayoutModel",
            "_view_count": null,
            "_view_module": "@jupyter-widgets/base",
            "_view_module_version": "1.2.0",
            "_view_name": "LayoutView",
            "align_content": null,
            "align_items": null,
            "align_self": null,
            "border": null,
            "bottom": null,
            "display": null,
            "flex": null,
            "flex_flow": null,
            "grid_area": null,
            "grid_auto_columns": null,
            "grid_auto_flow": null,
            "grid_auto_rows": null,
            "grid_column": null,
            "grid_gap": null,
            "grid_row": null,
            "grid_template_areas": null,
            "grid_template_columns": null,
            "grid_template_rows": null,
            "height": null,
            "justify_content": null,
            "justify_items": null,
            "left": null,
            "margin": null,
            "max_height": null,
            "max_width": null,
            "min_height": null,
            "min_width": null,
            "object_fit": null,
            "object_position": null,
            "order": null,
            "overflow": null,
            "overflow_x": null,
            "overflow_y": null,
            "padding": null,
            "right": null,
            "top": null,
            "visibility": null,
            "width": null
          }
        },
        "1e0e4a705457411faf69aae89fd063ef": {
          "model_module": "@jupyter-widgets/controls",
          "model_name": "DescriptionStyleModel",
          "model_module_version": "1.5.0",
          "state": {
            "_model_module": "@jupyter-widgets/controls",
            "_model_module_version": "1.5.0",
            "_model_name": "DescriptionStyleModel",
            "_view_count": null,
            "_view_module": "@jupyter-widgets/base",
            "_view_module_version": "1.2.0",
            "_view_name": "StyleView",
            "description_width": ""
          }
        },
        "3ed652a70c354451a823e57c2f0fd270": {
          "model_module": "@jupyter-widgets/controls",
          "model_name": "HBoxModel",
          "model_module_version": "1.5.0",
          "state": {
            "_dom_classes": [],
            "_model_module": "@jupyter-widgets/controls",
            "_model_module_version": "1.5.0",
            "_model_name": "HBoxModel",
            "_view_count": null,
            "_view_module": "@jupyter-widgets/controls",
            "_view_module_version": "1.5.0",
            "_view_name": "HBoxView",
            "box_style": "",
            "children": [
              "IPY_MODEL_65dfc76af60e41828bcd69afc6c6b64f",
              "IPY_MODEL_9376dfd8af7a45df97dbcaedd81e84b8",
              "IPY_MODEL_433eff700e5145caa70d4652899cdc04"
            ],
            "layout": "IPY_MODEL_fa238bd0ad6d4e09b1772443366d894a"
          }
        },
        "65dfc76af60e41828bcd69afc6c6b64f": {
          "model_module": "@jupyter-widgets/controls",
          "model_name": "HTMLModel",
          "model_module_version": "1.5.0",
          "state": {
            "_dom_classes": [],
            "_model_module": "@jupyter-widgets/controls",
            "_model_module_version": "1.5.0",
            "_model_name": "HTMLModel",
            "_view_count": null,
            "_view_module": "@jupyter-widgets/controls",
            "_view_module_version": "1.5.0",
            "_view_name": "HTMLView",
            "description": "",
            "description_tooltip": null,
            "layout": "IPY_MODEL_a4d37a565d4148b6b8ee76b467791dfd",
            "placeholder": "​",
            "style": "IPY_MODEL_861cdf0067db47df8cd9bd3dc2d08723",
            "value": "sign_language_model.h5: 100%"
          }
        },
        "9376dfd8af7a45df97dbcaedd81e84b8": {
          "model_module": "@jupyter-widgets/controls",
          "model_name": "FloatProgressModel",
          "model_module_version": "1.5.0",
          "state": {
            "_dom_classes": [],
            "_model_module": "@jupyter-widgets/controls",
            "_model_module_version": "1.5.0",
            "_model_name": "FloatProgressModel",
            "_view_count": null,
            "_view_module": "@jupyter-widgets/controls",
            "_view_module_version": "1.5.0",
            "_view_name": "ProgressView",
            "bar_style": "success",
            "description": "",
            "description_tooltip": null,
            "layout": "IPY_MODEL_a3d6c368e72e48d08c1d0377bc080034",
            "max": 573959680,
            "min": 0,
            "orientation": "horizontal",
            "style": "IPY_MODEL_71d7a8223f244d16939816487ae60ac0",
            "value": 573959680
          }
        },
        "433eff700e5145caa70d4652899cdc04": {
          "model_module": "@jupyter-widgets/controls",
          "model_name": "HTMLModel",
          "model_module_version": "1.5.0",
          "state": {
            "_dom_classes": [],
            "_model_module": "@jupyter-widgets/controls",
            "_model_module_version": "1.5.0",
            "_model_name": "HTMLModel",
            "_view_count": null,
            "_view_module": "@jupyter-widgets/controls",
            "_view_module_version": "1.5.0",
            "_view_name": "HTMLView",
            "description": "",
            "description_tooltip": null,
            "layout": "IPY_MODEL_a3da721866764896b9d3e4ca1d66245e",
            "placeholder": "​",
            "style": "IPY_MODEL_e8463559fe774603aee104e058bf2b3b",
            "value": " 574M/574M [00:15&lt;00:00, 37.6MB/s]"
          }
        },
        "fa238bd0ad6d4e09b1772443366d894a": {
          "model_module": "@jupyter-widgets/base",
          "model_name": "LayoutModel",
          "model_module_version": "1.2.0",
          "state": {
            "_model_module": "@jupyter-widgets/base",
            "_model_module_version": "1.2.0",
            "_model_name": "LayoutModel",
            "_view_count": null,
            "_view_module": "@jupyter-widgets/base",
            "_view_module_version": "1.2.0",
            "_view_name": "LayoutView",
            "align_content": null,
            "align_items": null,
            "align_self": null,
            "border": null,
            "bottom": null,
            "display": null,
            "flex": null,
            "flex_flow": null,
            "grid_area": null,
            "grid_auto_columns": null,
            "grid_auto_flow": null,
            "grid_auto_rows": null,
            "grid_column": null,
            "grid_gap": null,
            "grid_row": null,
            "grid_template_areas": null,
            "grid_template_columns": null,
            "grid_template_rows": null,
            "height": null,
            "justify_content": null,
            "justify_items": null,
            "left": null,
            "margin": null,
            "max_height": null,
            "max_width": null,
            "min_height": null,
            "min_width": null,
            "object_fit": null,
            "object_position": null,
            "order": null,
            "overflow": null,
            "overflow_x": null,
            "overflow_y": null,
            "padding": null,
            "right": null,
            "top": null,
            "visibility": null,
            "width": null
          }
        },
        "a4d37a565d4148b6b8ee76b467791dfd": {
          "model_module": "@jupyter-widgets/base",
          "model_name": "LayoutModel",
          "model_module_version": "1.2.0",
          "state": {
            "_model_module": "@jupyter-widgets/base",
            "_model_module_version": "1.2.0",
            "_model_name": "LayoutModel",
            "_view_count": null,
            "_view_module": "@jupyter-widgets/base",
            "_view_module_version": "1.2.0",
            "_view_name": "LayoutView",
            "align_content": null,
            "align_items": null,
            "align_self": null,
            "border": null,
            "bottom": null,
            "display": null,
            "flex": null,
            "flex_flow": null,
            "grid_area": null,
            "grid_auto_columns": null,
            "grid_auto_flow": null,
            "grid_auto_rows": null,
            "grid_column": null,
            "grid_gap": null,
            "grid_row": null,
            "grid_template_areas": null,
            "grid_template_columns": null,
            "grid_template_rows": null,
            "height": null,
            "justify_content": null,
            "justify_items": null,
            "left": null,
            "margin": null,
            "max_height": null,
            "max_width": null,
            "min_height": null,
            "min_width": null,
            "object_fit": null,
            "object_position": null,
            "order": null,
            "overflow": null,
            "overflow_x": null,
            "overflow_y": null,
            "padding": null,
            "right": null,
            "top": null,
            "visibility": null,
            "width": null
          }
        },
        "861cdf0067db47df8cd9bd3dc2d08723": {
          "model_module": "@jupyter-widgets/controls",
          "model_name": "DescriptionStyleModel",
          "model_module_version": "1.5.0",
          "state": {
            "_model_module": "@jupyter-widgets/controls",
            "_model_module_version": "1.5.0",
            "_model_name": "DescriptionStyleModel",
            "_view_count": null,
            "_view_module": "@jupyter-widgets/base",
            "_view_module_version": "1.2.0",
            "_view_name": "StyleView",
            "description_width": ""
          }
        },
        "a3d6c368e72e48d08c1d0377bc080034": {
          "model_module": "@jupyter-widgets/base",
          "model_name": "LayoutModel",
          "model_module_version": "1.2.0",
          "state": {
            "_model_module": "@jupyter-widgets/base",
            "_model_module_version": "1.2.0",
            "_model_name": "LayoutModel",
            "_view_count": null,
            "_view_module": "@jupyter-widgets/base",
            "_view_module_version": "1.2.0",
            "_view_name": "LayoutView",
            "align_content": null,
            "align_items": null,
            "align_self": null,
            "border": null,
            "bottom": null,
            "display": null,
            "flex": null,
            "flex_flow": null,
            "grid_area": null,
            "grid_auto_columns": null,
            "grid_auto_flow": null,
            "grid_auto_rows": null,
            "grid_column": null,
            "grid_gap": null,
            "grid_row": null,
            "grid_template_areas": null,
            "grid_template_columns": null,
            "grid_template_rows": null,
            "height": null,
            "justify_content": null,
            "justify_items": null,
            "left": null,
            "margin": null,
            "max_height": null,
            "max_width": null,
            "min_height": null,
            "min_width": null,
            "object_fit": null,
            "object_position": null,
            "order": null,
            "overflow": null,
            "overflow_x": null,
            "overflow_y": null,
            "padding": null,
            "right": null,
            "top": null,
            "visibility": null,
            "width": null
          }
        },
        "71d7a8223f244d16939816487ae60ac0": {
          "model_module": "@jupyter-widgets/controls",
          "model_name": "ProgressStyleModel",
          "model_module_version": "1.5.0",
          "state": {
            "_model_module": "@jupyter-widgets/controls",
            "_model_module_version": "1.5.0",
            "_model_name": "ProgressStyleModel",
            "_view_count": null,
            "_view_module": "@jupyter-widgets/base",
            "_view_module_version": "1.2.0",
            "_view_name": "StyleView",
            "bar_color": null,
            "description_width": ""
          }
        },
        "a3da721866764896b9d3e4ca1d66245e": {
          "model_module": "@jupyter-widgets/base",
          "model_name": "LayoutModel",
          "model_module_version": "1.2.0",
          "state": {
            "_model_module": "@jupyter-widgets/base",
            "_model_module_version": "1.2.0",
            "_model_name": "LayoutModel",
            "_view_count": null,
            "_view_module": "@jupyter-widgets/base",
            "_view_module_version": "1.2.0",
            "_view_name": "LayoutView",
            "align_content": null,
            "align_items": null,
            "align_self": null,
            "border": null,
            "bottom": null,
            "display": null,
            "flex": null,
            "flex_flow": null,
            "grid_area": null,
            "grid_auto_columns": null,
            "grid_auto_flow": null,
            "grid_auto_rows": null,
            "grid_column": null,
            "grid_gap": null,
            "grid_row": null,
            "grid_template_areas": null,
            "grid_template_columns": null,
            "grid_template_rows": null,
            "height": null,
            "justify_content": null,
            "justify_items": null,
            "left": null,
            "margin": null,
            "max_height": null,
            "max_width": null,
            "min_height": null,
            "min_width": null,
            "object_fit": null,
            "object_position": null,
            "order": null,
            "overflow": null,
            "overflow_x": null,
            "overflow_y": null,
            "padding": null,
            "right": null,
            "top": null,
            "visibility": null,
            "width": null
          }
        },
        "e8463559fe774603aee104e058bf2b3b": {
          "model_module": "@jupyter-widgets/controls",
          "model_name": "DescriptionStyleModel",
          "model_module_version": "1.5.0",
          "state": {
            "_model_module": "@jupyter-widgets/controls",
            "_model_module_version": "1.5.0",
            "_model_name": "DescriptionStyleModel",
            "_view_count": null,
            "_view_module": "@jupyter-widgets/base",
            "_view_module_version": "1.2.0",
            "_view_name": "StyleView",
            "description_width": ""
          }
        }
      }
    }
  },
  "cells": [
    {
      "cell_type": "markdown",
      "metadata": {
        "id": "view-in-github",
        "colab_type": "text"
      },
      "source": [
        "<a href=\"https://colab.research.google.com/github/Simo56a0/machineLEARNING/blob/master/cnn.ipynb\" target=\"_parent\"><img src=\"https://colab.research.google.com/assets/colab-badge.svg\" alt=\"Open In Colab\"/></a>"
      ]
    },
    {
      "cell_type": "code",
      "execution_count": null,
      "metadata": {
        "colab": {
          "base_uri": "https://localhost:8080/"
        },
        "id": "HEnpU1e2Y4DW",
        "outputId": "db625135-b6d4-4dcb-b2c5-06fd90219730"
      },
      "outputs": [
        {
          "output_type": "stream",
          "name": "stdout",
          "text": [
            "True\n",
            "Tesla T4\n"
          ]
        }
      ],
      "source": [
        "import torch\n",
        "print(torch.cuda.is_available())  # Should return True\n",
        "print(torch.cuda.get_device_name(0))  # Show GPU name\n"
      ]
    },
    {
      "cell_type": "code",
      "source": [
        "from google.colab import drive\n",
        "drive.mount('/content/drive')\n"
      ],
      "metadata": {
        "colab": {
          "base_uri": "https://localhost:8080/"
        },
        "id": "Vevug7nlmONb",
        "outputId": "c37bb99d-991e-44f6-8a86-2e2abd5dbe62"
      },
      "execution_count": null,
      "outputs": [
        {
          "output_type": "stream",
          "name": "stdout",
          "text": [
            "Mounted at /content/drive\n"
          ]
        }
      ]
    },
    {
      "cell_type": "code",
      "source": [
        "import os\n",
        "\n",
        "folder_path = '/content/drive/MyDrive/DATASET_ug_sign_language'\n",
        "files_in_folder = os.listdir(folder_path)\n",
        "print(files_in_folder)\n"
      ],
      "metadata": {
        "colab": {
          "base_uri": "https://localhost:8080/"
        },
        "id": "21kgEV-QnLNZ",
        "outputId": "14f62be1-e723-4380-b92e-be4ef6282790"
      },
      "execution_count": null,
      "outputs": [
        {
          "output_type": "stream",
          "name": "stdout",
          "text": [
            "['sign_annotations.csv', 'videos', '.ipynb_checkpoints', 'checkpoint.txt', 'frames1', 'resized_frames', 'normalized_frames', 'keypoints', 'encoded_sign_labels.csv']\n"
          ]
        }
      ]
    },
    {
      "cell_type": "code",
      "source": [
        "dataset_path = '/content/drive/MyDrive/DATASET_ug_sign_language'\n"
      ],
      "metadata": {
        "id": "V5PTP72uoolR"
      },
      "execution_count": null,
      "outputs": []
    },
    {
      "cell_type": "code",
      "source": [
        "import pandas as pd\n",
        "\n",
        "# Load the CSV file\n",
        "csv_path = \"/content/drive/MyDrive/DATASET_ug_sign_language/sign_annotations.csv\"  # Update path\n",
        "df = pd.read_csv(csv_path)\n",
        "\n",
        "# Display dataset structure\n",
        "print(df.head())\n",
        "print(f\"Total Videos: {len(df)}\")\n"
      ],
      "metadata": {
        "colab": {
          "base_uri": "https://localhost:8080/"
        },
        "id": "sf6Gnr94oNYm",
        "outputId": "9c30e114-a8d9-48cb-c3e5-b8d3b9155415"
      },
      "execution_count": null,
      "outputs": [
        {
          "output_type": "stream",
          "name": "stdout",
          "text": [
            "   video_ID sign_word\n",
            "0  0001.mp4     hello\n",
            "1  0002.mp4       you\n",
            "2  0003.mp4       how\n",
            "3  0004.mp4      name\n",
            "4  0005.mp4      what\n",
            "Total Videos: 90\n"
          ]
        }
      ]
    },
    {
      "cell_type": "code",
      "source": [
        "import cv2\n",
        "import os\n",
        "import pandas as pd\n",
        "import time\n",
        "\n",
        "# Paths\n",
        "video_folder = \"/content/drive/MyDrive/DATASET_ug_sign_language/videos\"\n",
        "output_folder = \"/content/drive/MyDrive/DATASET_ug_sign_language/frames1\"\n",
        "csv_path = \"/content/drive/MyDrive/DATASET_ug_sign_language/sign_annotations.csv\"\n",
        "\n",
        "os.makedirs(output_folder, exist_ok=True)\n",
        "\n",
        "# Load CSV\n",
        "df = pd.read_csv(csv_path)\n",
        "\n",
        "# Process videos in batches\n",
        "BATCH_SIZE = 10\n",
        "processed_count = 0\n",
        "\n",
        "def extract_frames(video_path, output_path, video_ID):\n",
        "    cap = cv2.VideoCapture(video_path)\n",
        "\n",
        "    if not cap.isOpened():\n",
        "        print(f\"❌ ERROR: Cannot open video {video_path}\")\n",
        "        return  # Skip this video\n",
        "\n",
        "    frame_count = 0\n",
        "    while cap.isOpened():\n",
        "        ret, frame = cap.read()\n",
        "        if not ret:\n",
        "            break\n",
        "\n",
        "        frame_filename = os.path.join(output_path, f\"{video_ID}_frame_{frame_count}.jpg\")\n",
        "        cv2.imwrite(frame_filename, frame)\n",
        "        frame_count += 1\n",
        "\n",
        "    cap.release()\n",
        "    print(f\"✅ Extracted {frame_count} frames from {video_ID}\")\n",
        "\n",
        "# Process in batches\n",
        "for index, row in df.iterrows():\n",
        "    video_ID = row['video_ID']\n",
        "    video_path = os.path.join(video_folder, f\"{video_ID}\")\n",
        "\n",
        "    if os.path.exists(video_path):\n",
        "        extract_frames(video_path, output_folder, video_ID)\n",
        "        processed_count += 1\n",
        "    else:\n",
        "        print(f\"❌ Video not found: {video_path}\")\n",
        "\n",
        "    if processed_count >= BATCH_SIZE:\n",
        "        print(\"⏸️ Batch complete. Taking a short break...\")\n",
        "        time.sleep(10)  # Prevent Google Colab crash\n",
        "        processed_count = 0  # Reset counter\n"
      ],
      "metadata": {
        "colab": {
          "base_uri": "https://localhost:8080/"
        },
        "id": "8EcfcQlfoomd",
        "outputId": "b62af90e-f68d-4d49-fda7-80197996b0c6"
      },
      "execution_count": null,
      "outputs": [
        {
          "output_type": "stream",
          "name": "stdout",
          "text": [
            "✅ Extracted 61 frames from 0001.mp4\n",
            "✅ Extracted 24 frames from 0002.mp4\n",
            "✅ Extracted 51 frames from 0003.mp4\n",
            "✅ Extracted 71 frames from 0004.mp4\n",
            "✅ Extracted 55 frames from 0005.mp4\n",
            "✅ Extracted 26 frames from 0006.mp4\n",
            "✅ Extracted 75 frames from 0007.mp4\n",
            "✅ Extracted 58 frames from 0008.mp4\n",
            "✅ Extracted 93 frames from 0009.mp4\n",
            "✅ Extracted 32 frames from 0010.mp4\n",
            "⏸️ Batch complete. Taking a short break...\n",
            "✅ Extracted 42 frames from 0011.mp4\n",
            "✅ Extracted 47 frames from 0012.mp4\n",
            "✅ Extracted 80 frames from 0013.mp4\n",
            "✅ Extracted 56 frames from 0014.mp4\n",
            "✅ Extracted 73 frames from 0015.mp4\n",
            "✅ Extracted 86 frames from 0016.mp4\n",
            "✅ Extracted 65 frames from 0017.mp4\n",
            "✅ Extracted 28 frames from 0018.mp4\n",
            "✅ Extracted 71 frames from 0019.mp4\n",
            "✅ Extracted 63 frames from 0020.mp4\n",
            "⏸️ Batch complete. Taking a short break...\n",
            "✅ Extracted 63 frames from 0021.mp4\n",
            "✅ Extracted 109 frames from 0022.mp4\n",
            "✅ Extracted 46 frames from 0023.mp4\n",
            "✅ Extracted 44 frames from 0024.mp4\n",
            "✅ Extracted 74 frames from 0025.mp4\n",
            "✅ Extracted 93 frames from 0026.mp4\n",
            "✅ Extracted 80 frames from 0027.mp4\n",
            "✅ Extracted 80 frames from 0028.mp4\n",
            "✅ Extracted 73 frames from 0029.mp4\n",
            "✅ Extracted 49 frames from 0030.mp4\n",
            "⏸️ Batch complete. Taking a short break...\n",
            "✅ Extracted 52 frames from 0031.mp4\n",
            "✅ Extracted 33 frames from 0032.mp4\n",
            "✅ Extracted 65 frames from 0033.mp4\n",
            "✅ Extracted 54 frames from 0034.mp4\n",
            "✅ Extracted 30 frames from 0035.mp4\n",
            "✅ Extracted 38 frames from 0036.mp4\n",
            "✅ Extracted 43 frames from 0037.mp4\n",
            "✅ Extracted 64 frames from 0038.mp4\n",
            "✅ Extracted 35 frames from 0039.mp4\n",
            "✅ Extracted 47 frames from 0040.mp4\n",
            "⏸️ Batch complete. Taking a short break...\n",
            "✅ Extracted 29 frames from 0041.mp4\n",
            "✅ Extracted 22 frames from 0042.mp4\n",
            "✅ Extracted 61 frames from 0043.mp4\n",
            "✅ Extracted 27 frames from 0044.mp4\n",
            "✅ Extracted 39 frames from 0045.mp4\n",
            "✅ Extracted 133 frames from 0046.mp4\n",
            "✅ Extracted 30 frames from 0047.mp4\n",
            "✅ Extracted 55 frames from 0048.mp4\n",
            "✅ Extracted 71 frames from 0049.mp4\n",
            "✅ Extracted 78 frames from 0050.mp4\n",
            "⏸️ Batch complete. Taking a short break...\n",
            "✅ Extracted 30 frames from 0051.mp4\n",
            "✅ Extracted 18 frames from 0052.mp4\n",
            "✅ Extracted 42 frames from 0053.mp4\n",
            "✅ Extracted 81 frames from 0054.mp4\n",
            "✅ Extracted 33 frames from 0055.mp4\n",
            "✅ Extracted 25 frames from 0056.mp4\n",
            "✅ Extracted 41 frames from 0057.mp4\n",
            "✅ Extracted 39 frames from 0058.mp4\n",
            "✅ Extracted 32 frames from 0059.mp4\n",
            "✅ Extracted 34 frames from 0060.mp4\n",
            "⏸️ Batch complete. Taking a short break...\n",
            "✅ Extracted 44 frames from 0061.mp4\n",
            "✅ Extracted 42 frames from 0062.mp4\n",
            "✅ Extracted 32 frames from 0063.mp4\n",
            "✅ Extracted 43 frames from 0064.mp4\n",
            "✅ Extracted 60 frames from 0065.mp4\n",
            "✅ Extracted 13 frames from 0066.mp4\n",
            "✅ Extracted 49 frames from 0067.mp4\n",
            "✅ Extracted 11 frames from 0068.mp4\n",
            "✅ Extracted 49 frames from 0069.mp4\n",
            "✅ Extracted 43 frames from 0070.mp4\n",
            "⏸️ Batch complete. Taking a short break...\n",
            "✅ Extracted 19 frames from 0071.mp4\n",
            "✅ Extracted 31 frames from 0072.mp4\n",
            "✅ Extracted 50 frames from 0073.mp4\n",
            "✅ Extracted 22 frames from 0074.mp4\n",
            "✅ Extracted 13 frames from 0075.mp4\n",
            "✅ Extracted 15 frames from 0076.mp4\n",
            "✅ Extracted 15 frames from 0077.mp4\n",
            "✅ Extracted 41 frames from 0078.mp4\n",
            "✅ Extracted 42 frames from 0079.mp4\n",
            "✅ Extracted 43 frames from 0080.mp4\n",
            "⏸️ Batch complete. Taking a short break...\n",
            "✅ Extracted 17 frames from 0081.mp4\n",
            "✅ Extracted 19 frames from 0082.mp4\n",
            "✅ Extracted 47 frames from 0083.mp4\n",
            "✅ Extracted 31 frames from 0084.mp4\n",
            "✅ Extracted 31 frames from 0085.mp4\n",
            "✅ Extracted 24 frames from 0086.mp4\n",
            "✅ Extracted 41 frames from 0087.mp4\n",
            "✅ Extracted 53 frames from 0088.mp4\n",
            "✅ Extracted 34 frames from 0089.mp4\n",
            "✅ Extracted 24 frames from 0090.mp4\n",
            "⏸️ Batch complete. Taking a short break...\n"
          ]
        }
      ]
    },
    {
      "cell_type": "code",
      "source": [
        "import cv2\n",
        "import os\n",
        "import numpy as np\n",
        "\n",
        "# Define new image size (adjust based on model input)\n",
        "IMG_SIZE = (224, 224)\n",
        "\n",
        "# Input & Output folders\n",
        "frames_folder = \"/content/drive/MyDrive/DATASET_ug_sign_language/frames1\"\n",
        "resized_folder = \"/content/drive/MyDrive/DATASET_ug_sign_language/resized_frames/\"\n",
        "\n",
        "# Ensure output directory exists\n",
        "os.makedirs(resized_folder, exist_ok=True)\n",
        "\n",
        "# Process all frames\n",
        "for frame_file in os.listdir(frames_folder):\n",
        "    frame_path = os.path.join(frames_folder, frame_file)\n",
        "\n",
        "    # Read the image\n",
        "    img = cv2.imread(frame_path)\n",
        "    if img is None:\n",
        "        print(f\"❌ Error reading {frame_file}\")\n",
        "        continue\n",
        "\n",
        "    # Resize image\n",
        "    img_resized = cv2.resize(img, IMG_SIZE)\n",
        "\n",
        "    # Save resized image\n",
        "    resized_path = os.path.join(resized_folder, frame_file)\n",
        "    cv2.imwrite(resized_path, img_resized)\n",
        "\n",
        "print(\"✅ All frames resized successfully!\")\n"
      ],
      "metadata": {
        "id": "yTf-ykvlbG3s",
        "colab": {
          "base_uri": "https://localhost:8080/"
        },
        "outputId": "5f17d62d-e668-4cf7-fd47-5b81fcc94991"
      },
      "execution_count": null,
      "outputs": [
        {
          "output_type": "stream",
          "name": "stdout",
          "text": [
            "✅ All frames resized successfully!\n"
          ]
        }
      ]
    },
    {
      "cell_type": "code",
      "source": [
        "import cv2\n",
        "import numpy as np\n",
        "import os\n",
        "\n",
        "# Normalization type (Choose one)\n",
        "NORMALIZATION_TYPE = \"0_to_1\"  # Options: \"0_to_1\" or \"-1_to_1\"\n",
        "\n",
        "# Paths\n",
        "resized_folder = \"/content/drive/MyDrive/DATASET_ug_sign_language/resized_frames\"\n",
        "normalized_folder = \"/content/drive/MyDrive/DATASET_ug_sign_language/normalized_frames/\"\n",
        "\n",
        "# Ensure output directory exists\n",
        "os.makedirs(normalized_folder, exist_ok=True)\n",
        "\n",
        "# Process all resized images\n",
        "for frame_file in os.listdir(resized_folder):\n",
        "    frame_path = os.path.join(resized_folder, frame_file)\n",
        "\n",
        "    # Read the image\n",
        "    img = cv2.imread(frame_path)\n",
        "    if img is None:\n",
        "        print(f\"❌ Error reading {frame_file}\")\n",
        "        continue\n",
        "\n",
        "    # Convert to float32 and normalize\n",
        "    img = img.astype(np.float32)\n",
        "\n",
        "    if NORMALIZATION_TYPE == \"0_to_1\":\n",
        "        img /= 255.0  # Scale to range [0,1]\n",
        "    elif NORMALIZATION_TYPE == \"-1_to_1\":\n",
        "        img = (img / 127.5) - 1  # Scale to range [-1,1]\n",
        "\n",
        "    # Save normalized image (optional, since models can normalize during training)\n",
        "    normalized_path = os.path.join(normalized_folder, frame_file)\n",
        "    cv2.imwrite(normalized_path, (img * 255).astype(np.uint8))  # Convert back to uint8 for storage\n",
        "\n",
        "print(\"✅ All frames normalized successfully!\")\n"
      ],
      "metadata": {
        "colab": {
          "base_uri": "https://localhost:8080/"
        },
        "id": "gPWg_43qeVGr",
        "outputId": "002f6886-d587-4114-8348-8ab7a3f3f462"
      },
      "execution_count": null,
      "outputs": [
        {
          "output_type": "stream",
          "name": "stdout",
          "text": [
            "✅ All frames normalized successfully!\n"
          ]
        }
      ]
    },
    {
      "cell_type": "code",
      "source": [
        "import numpy as np\n",
        "import cv2\n",
        "import os\n",
        "\n",
        "# Paths\n",
        "normalized_folder = \"/content/drive/MyDrive/DATASET_ug_sign_language/normalized_frames\"\n",
        "csv_path = \"/content/drive/MyDrive/DATASET_ug_sign_language/sign_annotations.csv\"\n",
        "\n",
        "# Load CSV file\n",
        "import pandas as pd\n",
        "df = pd.read_csv(csv_path)\n",
        "\n",
        "# Convert labels (sign words) to numerical values\n",
        "from sklearn.preprocessing import LabelEncoder\n",
        "\n",
        "label_encoder = LabelEncoder()\n",
        "df['label'] = label_encoder.fit_transform(df['sign_word'])\n",
        "\n",
        "# Create X (frames) and Y (labels)\n",
        "X = []\n",
        "Y = []\n",
        "\n",
        "for index, row in df.iterrows():\n",
        "    video_id = row['video_ID']\n",
        "    label = row['label']\n",
        "\n",
        "    # Find all frames for this video\n",
        "    frames = sorted([f for f in os.listdir(normalized_folder) if f.startswith(f\"{video_id}_\")])\n",
        "\n",
        "    for frame_file in frames:\n",
        "        frame_path = os.path.join(normalized_folder, frame_file)\n",
        "\n",
        "        # Load image\n",
        "        img = cv2.imread(frame_path)\n",
        "        if img is None:\n",
        "            continue\n",
        "\n",
        "        # Convert to NumPy array\n",
        "        X.append(img)\n",
        "        Y.append(label)\n",
        "\n",
        "# Convert to NumPy arrays\n",
        "X = np.array(X)\n",
        "Y = np.array(Y)\n",
        "\n",
        "print(f\"✅ Loaded {len(X)} frames into memory.\")\n",
        "print(f\"X shape: {X.shape}, Y shape: {Y.shape}\")\n"
      ],
      "metadata": {
        "colab": {
          "base_uri": "https://localhost:8080/"
        },
        "id": "Tct-n0AQgRzb",
        "outputId": "e745e428-bc68-4855-82d7-74dedc76030b"
      },
      "execution_count": null,
      "outputs": [
        {
          "output_type": "stream",
          "name": "stdout",
          "text": [
            "✅ Loaded 4247 frames into memory.\n",
            "X shape: (4247, 224, 224, 3), Y shape: (4247,)\n"
          ]
        }
      ]
    },
    {
      "cell_type": "code",
      "source": [
        "import pandas as pd\n",
        "from sklearn.preprocessing import LabelEncoder\n",
        "\n",
        "# Load the CSV file\n",
        "csv_path = \"/content/drive/MyDrive/DATASET_ug_sign_language/sign_annotations.csv\"\n",
        "df = pd.read_csv(csv_path)\n",
        "\n",
        "# Initialize LabelEncoder\n",
        "label_encoder = LabelEncoder()\n",
        "\n",
        "# Apply encoding to the 'sign_word' column\n",
        "df['encoded_label'] = label_encoder.fit_transform(df['sign_word'])\n",
        "\n",
        "# Save mapping for later use (word → number)\n",
        "label_mapping = dict(zip(label_encoder.classes_, label_encoder.transform(label_encoder.classes_)))\n",
        "\n",
        "# Save the encoded labels to a new CSV\n",
        "df.to_csv(\"/content/drive/MyDrive/DATASET_ug_sign_language/encoded_sign_labels.csv\", index=False)\n",
        "\n",
        "# Show first few rows\n",
        "print(df.head())\n",
        "print(\"\\nLabel Mapping:\", label_mapping)\n"
      ],
      "metadata": {
        "colab": {
          "base_uri": "https://localhost:8080/"
        },
        "id": "E-5l-ppCDyXG",
        "outputId": "c416e4e6-3a69-47ed-a0ce-fdfd4cb2c551"
      },
      "execution_count": null,
      "outputs": [
        {
          "output_type": "stream",
          "name": "stdout",
          "text": [
            "   video_ID sign_word  encoded_label\n",
            "0  0001.mp4     hello             28\n",
            "1  0002.mp4       you             84\n",
            "2  0003.mp4       how             31\n",
            "3  0004.mp4      name             46\n",
            "4  0005.mp4      what             78\n",
            "\n",
            "Label Mapping: {'about': 0, 'afternoon': 1, 'and': 2, 'any tips': 3, 'as follows': 4, 'bad': 5, 'book': 6, 'but': 7, 'can': 8, 'children': 9, 'come': 10, 'cook': 11, 'culture and tradition': 12, 'day': 13, 'different': 14, 'dinner': 15, 'directions': 16, 'enter': 17, 'evening': 18, 'family': 19, 'follows': 20, 'food': 21, 'forward': 22, 'game': 23, 'good': 24, 'goodbye': 25, 'guardians': 26, 'have': 27, 'hello': 28, 'help': 29, 'here': 30, 'how': 31, 'hungry': 32, 'interact': 33, 'is': 34, 'join us': 35, 'know': 36, 'learning': 37, 'looking': 38, 'lunch': 39, 'market': 40, 'me': 41, 'meet people': 42, 'members': 43, 'morning': 44, 'moving': 45, 'name': 46, 'next': 47, 'now': 48, 'numbers': 49, 'old': 50, 'open the door': 51, 'other': 52, 'our': 53, 'parents': 54, 'planning': 55, 'playing': 56, 'please': 57, 'regions': 58, 'repeat': 59, 'rules': 60, 'sign language': 61, 'start': 62, 'stay': 63, 'teach': 64, 'teach me': 65, 'team': 66, 'thank you': 67, 'thirsty': 68, 'to': 69, 'to eat': 70, 'topic': 71, 'travel': 72, 'ugandan': 73, 'users': 74, 'visit': 75, 'ways': 76, 'we': 77, 'what': 78, 'where': 79, 'wish': 80, 'work': 81, 'world': 82, 'would you like': 83, 'you': 84}\n"
          ]
        }
      ]
    },
    {
      "cell_type": "code",
      "source": [
        "import numpy as np\n",
        "import os\n",
        "from sklearn.model_selection import train_test_split\n",
        "from tensorflow.keras.utils import to_categorical\n",
        "\n",
        "# Assuming X (frames) and Y (labels) are lists\n",
        "X = np.array(X, dtype=\"float32\")  # Convert frames to NumPy array\n",
        "Y = np.array(Y, dtype=\"int\")  # Convert labels to NumPy array\n",
        "\n",
        "# Fix: Get number of unique classes correctly\n",
        "NUM_CLASSES = len(np.unique(Y))  # ✅ Use np.unique instead of set(Y)\n",
        "\n",
        "# One-hot encode labels\n",
        "Y = to_categorical(Y, num_classes=NUM_CLASSES)\n",
        "\n",
        "# Split dataset (80% training, 20% testing)\n",
        "X_train, X_test, Y_train, Y_test = train_test_split(X, Y, test_size=0.2, random_state=42)\n",
        "\n",
        "# Save the test data\n",
        "np.save(\"X_test.npy\", X_test)\n",
        "np.save(\"Y_test.npy\", Y_test)\n",
        "\n",
        "# Optional: Save training data\n",
        "np.save(\"X_train.npy\", X_train)\n",
        "np.save(\"Y_train.npy\", Y_train)\n",
        "\n",
        "print(f\"✅ Training Samples: {X_train.shape}, Testing Samples: {X_test.shape}\")\n"
      ],
      "metadata": {
        "colab": {
          "base_uri": "https://localhost:8080/"
        },
        "id": "vuylIUDcGMvD",
        "outputId": "568618ff-9a3a-42a7-9529-832a4f71ae95"
      },
      "execution_count": null,
      "outputs": [
        {
          "output_type": "stream",
          "name": "stdout",
          "text": [
            "✅ Training Samples: (3397, 224, 224, 3), Testing Samples: (850, 224, 224, 3)\n"
          ]
        }
      ]
    },
    {
      "cell_type": "code",
      "source": [
        "import tensorflow as tf\n",
        "from tensorflow.keras.models import Sequential\n",
        "from tensorflow.keras.layers import Conv2D, MaxPooling2D, Flatten, Dense, Dropout\n",
        "\n"
      ],
      "metadata": {
        "id": "iwThLCgnHOfy"
      },
      "execution_count": null,
      "outputs": []
    },
    {
      "cell_type": "code",
      "source": [
        "IMG_SIZE = 224  # Resize all frames to 64x64\n",
        "NUM_CLASSES = 85  # Update this with your number of classes\n",
        "DATA_PATH = \"/content/drive/MyDrive/DATASET_ug_sign_language/normalized_frames\"\n",
        "CSV_PATH = \"/content/drive/MyDrive/DATASET_ug_sign_language/encoded_sign_labels.csv\"\n"
      ],
      "metadata": {
        "id": "orBLFDhwHowX"
      },
      "execution_count": null,
      "outputs": []
    },
    {
      "cell_type": "code",
      "source": [
        "from tensorflow.keras.models import Sequential\n",
        "from tensorflow.keras.layers import Conv2D, MaxPooling2D, Flatten, Dense, Dropout, BatchNormalization\n",
        "\n",
        "def build_cnn_model(input_shape, num_classes):\n",
        "    model = Sequential([\n",
        "        Conv2D(16, (3, 3), activation='relu', input_shape=input_shape),\n",
        "        BatchNormalization(),\n",
        "        MaxPooling2D(pool_size=(2, 2)),\n",
        "\n",
        "        Conv2D(32, (3, 3), activation='relu'),\n",
        "        BatchNormalization(),\n",
        "        MaxPooling2D(pool_size=(2, 2)),\n",
        "\n",
        "        Flatten(),\n",
        "        Dense(512, activation='relu'),  # Reduced dense layer size\n",
        "        Dropout(0.5),\n",
        "        Dense(num_classes, activation='softmax')\n",
        "    ])\n",
        "\n",
        "    model.compile(optimizer='adam', loss='categorical_crossentropy', metrics=['accuracy'])\n",
        "    return model\n"
      ],
      "metadata": {
        "id": "mnj_ptXzHYfo"
      },
      "execution_count": null,
      "outputs": []
    },
    {
      "cell_type": "code",
      "source": [
        "cnn_model = build_cnn_model(input_shape=(IMG_SIZE, IMG_SIZE, 3), num_classes=NUM_CLASSES)\n",
        "cnn_model.summary()  # Check the updated model summary\n",
        "cnn_model.fit(X_train, Y_train, validation_data=(X_test, Y_test), epochs=20, batch_size=32)\n"
      ],
      "metadata": {
        "colab": {
          "base_uri": "https://localhost:8080/",
          "height": 1000
        },
        "id": "_FgjHd0APp0C",
        "outputId": "35d58e3b-fa9f-4701-fa2f-e0fa8ddb316f"
      },
      "execution_count": null,
      "outputs": [
        {
          "output_type": "display_data",
          "data": {
            "text/plain": [
              "\u001b[1mModel: \"sequential_1\"\u001b[0m\n"
            ],
            "text/html": [
              "<pre style=\"white-space:pre;overflow-x:auto;line-height:normal;font-family:Menlo,'DejaVu Sans Mono',consolas,'Courier New',monospace\"><span style=\"font-weight: bold\">Model: \"sequential_1\"</span>\n",
              "</pre>\n"
            ]
          },
          "metadata": {}
        },
        {
          "output_type": "display_data",
          "data": {
            "text/plain": [
              "┏━━━━━━━━━━━━━━━━━━━━━━━━━━━━━━━━━━━━━━┳━━━━━━━━━━━━━━━━━━━━━━━━━━━━━┳━━━━━━━━━━━━━━━━━┓\n",
              "┃\u001b[1m \u001b[0m\u001b[1mLayer (type)                        \u001b[0m\u001b[1m \u001b[0m┃\u001b[1m \u001b[0m\u001b[1mOutput Shape               \u001b[0m\u001b[1m \u001b[0m┃\u001b[1m \u001b[0m\u001b[1m        Param #\u001b[0m\u001b[1m \u001b[0m┃\n",
              "┡━━━━━━━━━━━━━━━━━━━━━━━━━━━━━━━━━━━━━━╇━━━━━━━━━━━━━━━━━━━━━━━━━━━━━╇━━━━━━━━━━━━━━━━━┩\n",
              "│ conv2d_2 (\u001b[38;5;33mConv2D\u001b[0m)                    │ (\u001b[38;5;45mNone\u001b[0m, \u001b[38;5;34m222\u001b[0m, \u001b[38;5;34m222\u001b[0m, \u001b[38;5;34m16\u001b[0m)        │             \u001b[38;5;34m448\u001b[0m │\n",
              "├──────────────────────────────────────┼─────────────────────────────┼─────────────────┤\n",
              "│ batch_normalization_2                │ (\u001b[38;5;45mNone\u001b[0m, \u001b[38;5;34m222\u001b[0m, \u001b[38;5;34m222\u001b[0m, \u001b[38;5;34m16\u001b[0m)        │              \u001b[38;5;34m64\u001b[0m │\n",
              "│ (\u001b[38;5;33mBatchNormalization\u001b[0m)                 │                             │                 │\n",
              "├──────────────────────────────────────┼─────────────────────────────┼─────────────────┤\n",
              "│ max_pooling2d_2 (\u001b[38;5;33mMaxPooling2D\u001b[0m)       │ (\u001b[38;5;45mNone\u001b[0m, \u001b[38;5;34m111\u001b[0m, \u001b[38;5;34m111\u001b[0m, \u001b[38;5;34m16\u001b[0m)        │               \u001b[38;5;34m0\u001b[0m │\n",
              "├──────────────────────────────────────┼─────────────────────────────┼─────────────────┤\n",
              "│ conv2d_3 (\u001b[38;5;33mConv2D\u001b[0m)                    │ (\u001b[38;5;45mNone\u001b[0m, \u001b[38;5;34m109\u001b[0m, \u001b[38;5;34m109\u001b[0m, \u001b[38;5;34m32\u001b[0m)        │           \u001b[38;5;34m4,640\u001b[0m │\n",
              "├──────────────────────────────────────┼─────────────────────────────┼─────────────────┤\n",
              "│ batch_normalization_3                │ (\u001b[38;5;45mNone\u001b[0m, \u001b[38;5;34m109\u001b[0m, \u001b[38;5;34m109\u001b[0m, \u001b[38;5;34m32\u001b[0m)        │             \u001b[38;5;34m128\u001b[0m │\n",
              "│ (\u001b[38;5;33mBatchNormalization\u001b[0m)                 │                             │                 │\n",
              "├──────────────────────────────────────┼─────────────────────────────┼─────────────────┤\n",
              "│ max_pooling2d_3 (\u001b[38;5;33mMaxPooling2D\u001b[0m)       │ (\u001b[38;5;45mNone\u001b[0m, \u001b[38;5;34m54\u001b[0m, \u001b[38;5;34m54\u001b[0m, \u001b[38;5;34m32\u001b[0m)          │               \u001b[38;5;34m0\u001b[0m │\n",
              "├──────────────────────────────────────┼─────────────────────────────┼─────────────────┤\n",
              "│ flatten_1 (\u001b[38;5;33mFlatten\u001b[0m)                  │ (\u001b[38;5;45mNone\u001b[0m, \u001b[38;5;34m93312\u001b[0m)               │               \u001b[38;5;34m0\u001b[0m │\n",
              "├──────────────────────────────────────┼─────────────────────────────┼─────────────────┤\n",
              "│ dense_2 (\u001b[38;5;33mDense\u001b[0m)                      │ (\u001b[38;5;45mNone\u001b[0m, \u001b[38;5;34m512\u001b[0m)                 │      \u001b[38;5;34m47,776,256\u001b[0m │\n",
              "├──────────────────────────────────────┼─────────────────────────────┼─────────────────┤\n",
              "│ dropout_1 (\u001b[38;5;33mDropout\u001b[0m)                  │ (\u001b[38;5;45mNone\u001b[0m, \u001b[38;5;34m512\u001b[0m)                 │               \u001b[38;5;34m0\u001b[0m │\n",
              "├──────────────────────────────────────┼─────────────────────────────┼─────────────────┤\n",
              "│ dense_3 (\u001b[38;5;33mDense\u001b[0m)                      │ (\u001b[38;5;45mNone\u001b[0m, \u001b[38;5;34m85\u001b[0m)                  │          \u001b[38;5;34m43,605\u001b[0m │\n",
              "└──────────────────────────────────────┴─────────────────────────────┴─────────────────┘\n"
            ],
            "text/html": [
              "<pre style=\"white-space:pre;overflow-x:auto;line-height:normal;font-family:Menlo,'DejaVu Sans Mono',consolas,'Courier New',monospace\">┏━━━━━━━━━━━━━━━━━━━━━━━━━━━━━━━━━━━━━━┳━━━━━━━━━━━━━━━━━━━━━━━━━━━━━┳━━━━━━━━━━━━━━━━━┓\n",
              "┃<span style=\"font-weight: bold\"> Layer (type)                         </span>┃<span style=\"font-weight: bold\"> Output Shape                </span>┃<span style=\"font-weight: bold\">         Param # </span>┃\n",
              "┡━━━━━━━━━━━━━━━━━━━━━━━━━━━━━━━━━━━━━━╇━━━━━━━━━━━━━━━━━━━━━━━━━━━━━╇━━━━━━━━━━━━━━━━━┩\n",
              "│ conv2d_2 (<span style=\"color: #0087ff; text-decoration-color: #0087ff\">Conv2D</span>)                    │ (<span style=\"color: #00d7ff; text-decoration-color: #00d7ff\">None</span>, <span style=\"color: #00af00; text-decoration-color: #00af00\">222</span>, <span style=\"color: #00af00; text-decoration-color: #00af00\">222</span>, <span style=\"color: #00af00; text-decoration-color: #00af00\">16</span>)        │             <span style=\"color: #00af00; text-decoration-color: #00af00\">448</span> │\n",
              "├──────────────────────────────────────┼─────────────────────────────┼─────────────────┤\n",
              "│ batch_normalization_2                │ (<span style=\"color: #00d7ff; text-decoration-color: #00d7ff\">None</span>, <span style=\"color: #00af00; text-decoration-color: #00af00\">222</span>, <span style=\"color: #00af00; text-decoration-color: #00af00\">222</span>, <span style=\"color: #00af00; text-decoration-color: #00af00\">16</span>)        │              <span style=\"color: #00af00; text-decoration-color: #00af00\">64</span> │\n",
              "│ (<span style=\"color: #0087ff; text-decoration-color: #0087ff\">BatchNormalization</span>)                 │                             │                 │\n",
              "├──────────────────────────────────────┼─────────────────────────────┼─────────────────┤\n",
              "│ max_pooling2d_2 (<span style=\"color: #0087ff; text-decoration-color: #0087ff\">MaxPooling2D</span>)       │ (<span style=\"color: #00d7ff; text-decoration-color: #00d7ff\">None</span>, <span style=\"color: #00af00; text-decoration-color: #00af00\">111</span>, <span style=\"color: #00af00; text-decoration-color: #00af00\">111</span>, <span style=\"color: #00af00; text-decoration-color: #00af00\">16</span>)        │               <span style=\"color: #00af00; text-decoration-color: #00af00\">0</span> │\n",
              "├──────────────────────────────────────┼─────────────────────────────┼─────────────────┤\n",
              "│ conv2d_3 (<span style=\"color: #0087ff; text-decoration-color: #0087ff\">Conv2D</span>)                    │ (<span style=\"color: #00d7ff; text-decoration-color: #00d7ff\">None</span>, <span style=\"color: #00af00; text-decoration-color: #00af00\">109</span>, <span style=\"color: #00af00; text-decoration-color: #00af00\">109</span>, <span style=\"color: #00af00; text-decoration-color: #00af00\">32</span>)        │           <span style=\"color: #00af00; text-decoration-color: #00af00\">4,640</span> │\n",
              "├──────────────────────────────────────┼─────────────────────────────┼─────────────────┤\n",
              "│ batch_normalization_3                │ (<span style=\"color: #00d7ff; text-decoration-color: #00d7ff\">None</span>, <span style=\"color: #00af00; text-decoration-color: #00af00\">109</span>, <span style=\"color: #00af00; text-decoration-color: #00af00\">109</span>, <span style=\"color: #00af00; text-decoration-color: #00af00\">32</span>)        │             <span style=\"color: #00af00; text-decoration-color: #00af00\">128</span> │\n",
              "│ (<span style=\"color: #0087ff; text-decoration-color: #0087ff\">BatchNormalization</span>)                 │                             │                 │\n",
              "├──────────────────────────────────────┼─────────────────────────────┼─────────────────┤\n",
              "│ max_pooling2d_3 (<span style=\"color: #0087ff; text-decoration-color: #0087ff\">MaxPooling2D</span>)       │ (<span style=\"color: #00d7ff; text-decoration-color: #00d7ff\">None</span>, <span style=\"color: #00af00; text-decoration-color: #00af00\">54</span>, <span style=\"color: #00af00; text-decoration-color: #00af00\">54</span>, <span style=\"color: #00af00; text-decoration-color: #00af00\">32</span>)          │               <span style=\"color: #00af00; text-decoration-color: #00af00\">0</span> │\n",
              "├──────────────────────────────────────┼─────────────────────────────┼─────────────────┤\n",
              "│ flatten_1 (<span style=\"color: #0087ff; text-decoration-color: #0087ff\">Flatten</span>)                  │ (<span style=\"color: #00d7ff; text-decoration-color: #00d7ff\">None</span>, <span style=\"color: #00af00; text-decoration-color: #00af00\">93312</span>)               │               <span style=\"color: #00af00; text-decoration-color: #00af00\">0</span> │\n",
              "├──────────────────────────────────────┼─────────────────────────────┼─────────────────┤\n",
              "│ dense_2 (<span style=\"color: #0087ff; text-decoration-color: #0087ff\">Dense</span>)                      │ (<span style=\"color: #00d7ff; text-decoration-color: #00d7ff\">None</span>, <span style=\"color: #00af00; text-decoration-color: #00af00\">512</span>)                 │      <span style=\"color: #00af00; text-decoration-color: #00af00\">47,776,256</span> │\n",
              "├──────────────────────────────────────┼─────────────────────────────┼─────────────────┤\n",
              "│ dropout_1 (<span style=\"color: #0087ff; text-decoration-color: #0087ff\">Dropout</span>)                  │ (<span style=\"color: #00d7ff; text-decoration-color: #00d7ff\">None</span>, <span style=\"color: #00af00; text-decoration-color: #00af00\">512</span>)                 │               <span style=\"color: #00af00; text-decoration-color: #00af00\">0</span> │\n",
              "├──────────────────────────────────────┼─────────────────────────────┼─────────────────┤\n",
              "│ dense_3 (<span style=\"color: #0087ff; text-decoration-color: #0087ff\">Dense</span>)                      │ (<span style=\"color: #00d7ff; text-decoration-color: #00d7ff\">None</span>, <span style=\"color: #00af00; text-decoration-color: #00af00\">85</span>)                  │          <span style=\"color: #00af00; text-decoration-color: #00af00\">43,605</span> │\n",
              "└──────────────────────────────────────┴─────────────────────────────┴─────────────────┘\n",
              "</pre>\n"
            ]
          },
          "metadata": {}
        },
        {
          "output_type": "display_data",
          "data": {
            "text/plain": [
              "\u001b[1m Total params: \u001b[0m\u001b[38;5;34m47,825,141\u001b[0m (182.44 MB)\n"
            ],
            "text/html": [
              "<pre style=\"white-space:pre;overflow-x:auto;line-height:normal;font-family:Menlo,'DejaVu Sans Mono',consolas,'Courier New',monospace\"><span style=\"font-weight: bold\"> Total params: </span><span style=\"color: #00af00; text-decoration-color: #00af00\">47,825,141</span> (182.44 MB)\n",
              "</pre>\n"
            ]
          },
          "metadata": {}
        },
        {
          "output_type": "display_data",
          "data": {
            "text/plain": [
              "\u001b[1m Trainable params: \u001b[0m\u001b[38;5;34m47,825,045\u001b[0m (182.44 MB)\n"
            ],
            "text/html": [
              "<pre style=\"white-space:pre;overflow-x:auto;line-height:normal;font-family:Menlo,'DejaVu Sans Mono',consolas,'Courier New',monospace\"><span style=\"font-weight: bold\"> Trainable params: </span><span style=\"color: #00af00; text-decoration-color: #00af00\">47,825,045</span> (182.44 MB)\n",
              "</pre>\n"
            ]
          },
          "metadata": {}
        },
        {
          "output_type": "display_data",
          "data": {
            "text/plain": [
              "\u001b[1m Non-trainable params: \u001b[0m\u001b[38;5;34m96\u001b[0m (384.00 B)\n"
            ],
            "text/html": [
              "<pre style=\"white-space:pre;overflow-x:auto;line-height:normal;font-family:Menlo,'DejaVu Sans Mono',consolas,'Courier New',monospace\"><span style=\"font-weight: bold\"> Non-trainable params: </span><span style=\"color: #00af00; text-decoration-color: #00af00\">96</span> (384.00 B)\n",
              "</pre>\n"
            ]
          },
          "metadata": {}
        },
        {
          "output_type": "stream",
          "name": "stdout",
          "text": [
            "Epoch 1/20\n",
            "\u001b[1m107/107\u001b[0m \u001b[32m━━━━━━━━━━━━━━━━━━━━\u001b[0m\u001b[37m\u001b[0m \u001b[1m18s\u001b[0m 111ms/step - accuracy: 0.2596 - loss: 20.4037 - val_accuracy: 0.1388 - val_loss: 17.5934\n",
            "Epoch 2/20\n",
            "\u001b[1m107/107\u001b[0m \u001b[32m━━━━━━━━━━━━━━━━━━━━\u001b[0m\u001b[37m\u001b[0m \u001b[1m5s\u001b[0m 43ms/step - accuracy: 0.7040 - loss: 1.7576 - val_accuracy: 0.8141 - val_loss: 1.0284\n",
            "Epoch 3/20\n",
            "\u001b[1m107/107\u001b[0m \u001b[32m━━━━━━━━━━━━━━━━━━━━\u001b[0m\u001b[37m\u001b[0m \u001b[1m5s\u001b[0m 41ms/step - accuracy: 0.7924 - loss: 1.4728 - val_accuracy: 0.9353 - val_loss: 0.3207\n",
            "Epoch 4/20\n",
            "\u001b[1m107/107\u001b[0m \u001b[32m━━━━━━━━━━━━━━━━━━━━\u001b[0m\u001b[37m\u001b[0m \u001b[1m5s\u001b[0m 44ms/step - accuracy: 0.8662 - loss: 0.9589 - val_accuracy: 0.9529 - val_loss: 0.3209\n",
            "Epoch 5/20\n",
            "\u001b[1m107/107\u001b[0m \u001b[32m━━━━━━━━━━━━━━━━━━━━\u001b[0m\u001b[37m\u001b[0m \u001b[1m5s\u001b[0m 43ms/step - accuracy: 0.8805 - loss: 0.8958 - val_accuracy: 0.8929 - val_loss: 1.0491\n",
            "Epoch 6/20\n",
            "\u001b[1m107/107\u001b[0m \u001b[32m━━━━━━━━━━━━━━━━━━━━\u001b[0m\u001b[37m\u001b[0m \u001b[1m5s\u001b[0m 42ms/step - accuracy: 0.8887 - loss: 0.9047 - val_accuracy: 0.9459 - val_loss: 0.5140\n",
            "Epoch 7/20\n",
            "\u001b[1m107/107\u001b[0m \u001b[32m━━━━━━━━━━━━━━━━━━━━\u001b[0m\u001b[37m\u001b[0m \u001b[1m5s\u001b[0m 43ms/step - accuracy: 0.9180 - loss: 0.4789 - val_accuracy: 0.9682 - val_loss: 0.3443\n",
            "Epoch 8/20\n",
            "\u001b[1m107/107\u001b[0m \u001b[32m━━━━━━━━━━━━━━━━━━━━\u001b[0m\u001b[37m\u001b[0m \u001b[1m5s\u001b[0m 43ms/step - accuracy: 0.9267 - loss: 0.6280 - val_accuracy: 0.9565 - val_loss: 0.4885\n",
            "Epoch 9/20\n",
            "\u001b[1m107/107\u001b[0m \u001b[32m━━━━━━━━━━━━━━━━━━━━\u001b[0m\u001b[37m\u001b[0m \u001b[1m4s\u001b[0m 41ms/step - accuracy: 0.9189 - loss: 0.7067 - val_accuracy: 0.9506 - val_loss: 0.4102\n",
            "Epoch 10/20\n",
            "\u001b[1m107/107\u001b[0m \u001b[32m━━━━━━━━━━━━━━━━━━━━\u001b[0m\u001b[37m\u001b[0m \u001b[1m5s\u001b[0m 43ms/step - accuracy: 0.9124 - loss: 0.8107 - val_accuracy: 0.9671 - val_loss: 0.2338\n",
            "Epoch 11/20\n",
            "\u001b[1m107/107\u001b[0m \u001b[32m━━━━━━━━━━━━━━━━━━━━\u001b[0m\u001b[37m\u001b[0m \u001b[1m5s\u001b[0m 42ms/step - accuracy: 0.9231 - loss: 0.7759 - val_accuracy: 0.9400 - val_loss: 0.5561\n",
            "Epoch 12/20\n",
            "\u001b[1m107/107\u001b[0m \u001b[32m━━━━━━━━━━━━━━━━━━━━\u001b[0m\u001b[37m\u001b[0m \u001b[1m5s\u001b[0m 44ms/step - accuracy: 0.9326 - loss: 0.5535 - val_accuracy: 0.9741 - val_loss: 0.2026\n",
            "Epoch 13/20\n",
            "\u001b[1m107/107\u001b[0m \u001b[32m━━━━━━━━━━━━━━━━━━━━\u001b[0m\u001b[37m\u001b[0m \u001b[1m4s\u001b[0m 40ms/step - accuracy: 0.9401 - loss: 0.4838 - val_accuracy: 0.9847 - val_loss: 0.0909\n",
            "Epoch 14/20\n",
            "\u001b[1m107/107\u001b[0m \u001b[32m━━━━━━━━━━━━━━━━━━━━\u001b[0m\u001b[37m\u001b[0m \u001b[1m5s\u001b[0m 42ms/step - accuracy: 0.9557 - loss: 0.4243 - val_accuracy: 0.9729 - val_loss: 0.2915\n",
            "Epoch 15/20\n",
            "\u001b[1m107/107\u001b[0m \u001b[32m━━━━━━━━━━━━━━━━━━━━\u001b[0m\u001b[37m\u001b[0m \u001b[1m5s\u001b[0m 40ms/step - accuracy: 0.9577 - loss: 0.3747 - val_accuracy: 0.9718 - val_loss: 0.1686\n",
            "Epoch 16/20\n",
            "\u001b[1m107/107\u001b[0m \u001b[32m━━━━━━━━━━━━━━━━━━━━\u001b[0m\u001b[37m\u001b[0m \u001b[1m4s\u001b[0m 41ms/step - accuracy: 0.9502 - loss: 0.5555 - val_accuracy: 0.9776 - val_loss: 0.1477\n",
            "Epoch 17/20\n",
            "\u001b[1m107/107\u001b[0m \u001b[32m━━━━━━━━━━━━━━━━━━━━\u001b[0m\u001b[37m\u001b[0m \u001b[1m5s\u001b[0m 44ms/step - accuracy: 0.9543 - loss: 0.3873 - val_accuracy: 0.9765 - val_loss: 0.2492\n",
            "Epoch 18/20\n",
            "\u001b[1m107/107\u001b[0m \u001b[32m━━━━━━━━━━━━━━━━━━━━\u001b[0m\u001b[37m\u001b[0m \u001b[1m4s\u001b[0m 41ms/step - accuracy: 0.9610 - loss: 0.2718 - val_accuracy: 0.9765 - val_loss: 0.2468\n",
            "Epoch 19/20\n",
            "\u001b[1m107/107\u001b[0m \u001b[32m━━━━━━━━━━━━━━━━━━━━\u001b[0m\u001b[37m\u001b[0m \u001b[1m5s\u001b[0m 43ms/step - accuracy: 0.9644 - loss: 0.2958 - val_accuracy: 0.9765 - val_loss: 0.2222\n",
            "Epoch 20/20\n",
            "\u001b[1m107/107\u001b[0m \u001b[32m━━━━━━━━━━━━━━━━━━━━\u001b[0m\u001b[37m\u001b[0m \u001b[1m4s\u001b[0m 42ms/step - accuracy: 0.9663 - loss: 0.2241 - val_accuracy: 0.9788 - val_loss: 0.2881\n"
          ]
        },
        {
          "output_type": "execute_result",
          "data": {
            "text/plain": [
              "<keras.src.callbacks.history.History at 0x7cb5c4381150>"
            ]
          },
          "metadata": {},
          "execution_count": 13
        }
      ]
    },
    {
      "cell_type": "code",
      "source": [
        "cnn_model.save(\"sign_language_model.h5\")\n",
        "print(\"✅ Model saved successfully!\")\n"
      ],
      "metadata": {
        "colab": {
          "base_uri": "https://localhost:8080/"
        },
        "id": "bZID2i06qwT5",
        "outputId": "fa6fddf4-fe8e-4981-ff67-cb22d71807f1"
      },
      "execution_count": null,
      "outputs": [
        {
          "output_type": "stream",
          "name": "stderr",
          "text": [
            "WARNING:absl:You are saving your model as an HDF5 file via `model.save()` or `keras.saving.save_model(model)`. This file format is considered legacy. We recommend using instead the native Keras format, e.g. `model.save('my_model.keras')` or `keras.saving.save_model(model, 'my_model.keras')`. \n"
          ]
        },
        {
          "output_type": "stream",
          "name": "stdout",
          "text": [
            "✅ Model saved successfully!\n"
          ]
        }
      ]
    },
    {
      "cell_type": "code",
      "source": [
        "import tensorflow as tf\n",
        "\n",
        "# Load the original model\n",
        "model = tf.keras.models.load_model(\"sign_language_model.h5\")\n",
        "\n",
        "# Convert to TFLite\n",
        "converter = tf.lite.TFLiteConverter.from_keras_model(model)\n",
        "\n",
        "# Optional: Apply quantization (reduces size but may slightly impact accuracy)\n",
        "converter.optimizations = [tf.lite.Optimize.DEFAULT]\n",
        "\n",
        "tflite_model = converter.convert()\n",
        "\n",
        "# Save the new model\n",
        "with open(\"sign_language_model.tflite\", \"wb\") as f:\n",
        "    f.write(tflite_model)\n",
        "\n",
        "print(\"✅ Model converted to TFLite successfully!\")\n"
      ],
      "metadata": {
        "colab": {
          "base_uri": "https://localhost:8080/"
        },
        "id": "phCQO7-vowM6",
        "outputId": "d87e312a-b10b-4b74-dd0c-4a06adfe876b"
      },
      "execution_count": null,
      "outputs": [
        {
          "output_type": "stream",
          "name": "stderr",
          "text": [
            "WARNING:absl:Compiled the loaded model, but the compiled metrics have yet to be built. `model.compile_metrics` will be empty until you train or evaluate the model.\n"
          ]
        },
        {
          "output_type": "stream",
          "name": "stdout",
          "text": [
            "Saved artifact at '/tmp/tmpsbhjep2d'. The following endpoints are available:\n",
            "\n",
            "* Endpoint 'serve'\n",
            "  args_0 (POSITIONAL_ONLY): TensorSpec(shape=(None, 224, 224, 3), dtype=tf.float32, name='input_layer_1')\n",
            "Output Type:\n",
            "  TensorSpec(shape=(None, 85), dtype=tf.float32, name=None)\n",
            "Captures:\n",
            "  137120121426512: TensorSpec(shape=(), dtype=tf.resource, name=None)\n",
            "  137120121422672: TensorSpec(shape=(), dtype=tf.resource, name=None)\n",
            "  137120121426320: TensorSpec(shape=(), dtype=tf.resource, name=None)\n",
            "  137120121422864: TensorSpec(shape=(), dtype=tf.resource, name=None)\n",
            "  137120121426896: TensorSpec(shape=(), dtype=tf.resource, name=None)\n",
            "  137120121425360: TensorSpec(shape=(), dtype=tf.resource, name=None)\n",
            "  137120121427088: TensorSpec(shape=(), dtype=tf.resource, name=None)\n",
            "  137119885351760: TensorSpec(shape=(), dtype=tf.resource, name=None)\n",
            "  137119885355408: TensorSpec(shape=(), dtype=tf.resource, name=None)\n",
            "  137119885350032: TensorSpec(shape=(), dtype=tf.resource, name=None)\n",
            "  137119885353680: TensorSpec(shape=(), dtype=tf.resource, name=None)\n",
            "  137119885351952: TensorSpec(shape=(), dtype=tf.resource, name=None)\n",
            "  137119885349648: TensorSpec(shape=(), dtype=tf.resource, name=None)\n",
            "  137119885350224: TensorSpec(shape=(), dtype=tf.resource, name=None)\n",
            "  137119885351568: TensorSpec(shape=(), dtype=tf.resource, name=None)\n",
            "  137119885355792: TensorSpec(shape=(), dtype=tf.resource, name=None)\n",
            "✅ Model converted to TFLite successfully!\n"
          ]
        }
      ]
    },
    {
      "cell_type": "code",
      "source": [
        "import os\n",
        "os.listdir(\"/content/\")\n"
      ],
      "metadata": {
        "id": "LRCE_onSyEQ7",
        "colab": {
          "base_uri": "https://localhost:8080/"
        },
        "outputId": "c7b643a0-df96-4fb4-8b63-1b0b3706c813"
      },
      "execution_count": null,
      "outputs": [
        {
          "output_type": "execute_result",
          "data": {
            "text/plain": [
              "['.config',\n",
              " 'X_train.npy',\n",
              " 'cnn_model.joblib',\n",
              " 'drive',\n",
              " 'X_test.npy',\n",
              " 'Y_test.npy',\n",
              " 'sign_language_model.h5',\n",
              " 'Y_train.npy',\n",
              " 'sample_data']"
            ]
          },
          "metadata": {},
          "execution_count": 17
        }
      ]
    },
    {
      "cell_type": "code",
      "source": [
        "import numpy as np\n",
        "from tensorflow.keras.models import load_model\n",
        "from sklearn.metrics import accuracy_score, classification_report, confusion_matrix\n",
        "\n",
        "# Load your trained model\n",
        "model = load_model(\"sign_language_model.h5\")  # Replace with your actual model file\n",
        "\n",
        "# Load and preprocess test data\n",
        "X_test = np.load(\"X_test.npy\")  # Replace with actual test dataset\n",
        "y_test = np.load(\"Y_test.npy\")  # True labels\n",
        "\n",
        "# Make predictions\n",
        "y_pred = model.predict(X_test)\n",
        "\n",
        "# Convert y_test to class indices if it's one-hot encoded\n",
        "if y_test.ndim == 3 and y_test.shape[2] > 1:  # Check if y_test is one-hot encoded\n",
        "    y_test = np.argmax(y_test, axis=2)  # Convert to class indices\n",
        "# If y_test has probabilities, you might want to threshold it to get class indices\n",
        "#  y_test = (y_test > 0.5).astype(int)  # Example: Threshold at 0.5\n",
        "\n",
        "# Convert Y_test and y_pred to appropriate format for accuracy_score\n",
        "Y_test_labels = np.argmax(y_test, axis=1)  # Convert Y_test from one-hot to class indices\n",
        "y_pred_labels = np.argmax(y_pred, axis=1)  # Convert predictions from one-hot to class indices\n",
        "\n",
        "# Evaluate accuracy\n",
        "accuracy = accuracy_score(Y_test_labels, y_pred_labels)  # Use class indices for accuracy\n",
        "print(f\"Accuracy: {accuracy:.4f}\")\n",
        "\n",
        "# Classification Report (use class indices for report)\n",
        "print(\"\\nClassification Report:\")\n",
        "print(classification_report(Y_test_labels, y_pred_labels, zero_division=1))  # Use class indices for report\n",
        "\n",
        "# Confusion Matrix (use class indices for matrix)\n",
        "print(\"\\nConfusion Matrix:\")\n",
        "print(confusion_matrix(Y_test_labels, y_pred_labels))  # Use class indices for matrix"
      ],
      "metadata": {
        "colab": {
          "base_uri": "https://localhost:8080/"
        },
        "id": "eYJErOVzonlu",
        "outputId": "2cf727ad-c5c3-45be-9a2e-a04e7a9e74f3"
      },
      "execution_count": null,
      "outputs": [
        {
          "output_type": "stream",
          "name": "stderr",
          "text": [
            "WARNING:absl:Compiled the loaded model, but the compiled metrics have yet to be built. `model.compile_metrics` will be empty until you train or evaluate the model.\n"
          ]
        },
        {
          "output_type": "stream",
          "name": "stdout",
          "text": [
            "\u001b[1m27/27\u001b[0m \u001b[32m━━━━━━━━━━━━━━━━━━━━\u001b[0m\u001b[37m\u001b[0m \u001b[1m1s\u001b[0m 31ms/step\n",
            "Accuracy: 0.9600\n",
            "\n",
            "Classification Report:\n",
            "              precision    recall  f1-score   support\n",
            "\n",
            "           0       1.00      1.00      1.00         9\n",
            "           1       1.00      1.00      1.00        14\n",
            "           2       1.00      1.00      1.00         2\n",
            "           3       1.00      1.00      1.00        18\n",
            "           4       1.00      1.00      1.00         9\n",
            "           5       1.00      1.00      1.00         9\n",
            "           6       1.00      1.00      1.00        10\n",
            "           7       1.00      1.00      1.00         1\n",
            "           8       1.00      1.00      1.00         8\n",
            "           9       0.93      1.00      0.96        13\n",
            "          10       1.00      0.89      0.94         9\n",
            "          11       0.80      1.00      0.89         4\n",
            "          12       0.88      1.00      0.93         7\n",
            "          13       1.00      1.00      1.00        27\n",
            "          14       0.86      1.00      0.92         6\n",
            "          15       1.00      1.00      1.00         7\n",
            "          16       1.00      1.00      1.00        17\n",
            "          17       1.00      1.00      1.00         5\n",
            "          18       1.00      0.95      0.98        21\n",
            "          19       0.67      1.00      0.80         2\n",
            "          20       1.00      0.50      0.67         6\n",
            "          21       1.00      1.00      1.00         5\n",
            "          22       1.00      0.89      0.94         9\n",
            "          23       1.00      1.00      1.00         8\n",
            "          24       1.00      1.00      1.00        15\n",
            "          25       1.00      1.00      1.00        19\n",
            "          26       1.00      1.00      1.00         6\n",
            "          27       1.00      1.00      1.00         3\n",
            "          28       0.83      1.00      0.90        19\n",
            "          29       1.00      0.85      0.92        13\n",
            "          30       1.00      1.00      1.00         1\n",
            "          31       1.00      1.00      1.00        27\n",
            "          32       1.00      1.00      1.00        14\n",
            "          33       0.96      0.84      0.90        32\n",
            "          34       1.00      0.75      0.86         4\n",
            "          35       1.00      1.00      1.00         1\n",
            "          36       1.00      1.00      1.00         7\n",
            "          37       0.86      1.00      0.92         6\n",
            "          38       1.00      1.00      1.00         4\n",
            "          39       1.00      0.88      0.94        17\n",
            "          40       1.00      1.00      1.00        16\n",
            "          41       1.00      1.00      1.00        25\n",
            "          42       1.00      1.00      1.00         8\n",
            "          43       1.00      0.88      0.93         8\n",
            "          44       0.94      1.00      0.97        16\n",
            "          45       1.00      1.00      1.00         5\n",
            "          46       1.00      1.00      1.00        20\n",
            "          47       0.82      0.90      0.86        10\n",
            "          48       1.00      1.00      1.00        10\n",
            "          49       1.00      1.00      1.00         4\n",
            "          50       1.00      1.00      1.00        11\n",
            "          51       1.00      1.00      1.00         7\n",
            "          52       1.00      1.00      1.00         2\n",
            "          53       0.60      0.75      0.67         4\n",
            "          54       0.89      1.00      0.94         8\n",
            "          55       1.00      0.83      0.91         6\n",
            "          56       0.80      0.89      0.84         9\n",
            "          57       1.00      1.00      1.00        25\n",
            "          58       1.00      1.00      1.00         5\n",
            "          59       0.88      1.00      0.93         7\n",
            "          60       0.82      1.00      0.90         9\n",
            "          61       1.00      0.79      0.88        14\n",
            "          62       1.00      1.00      1.00         6\n",
            "          63       1.00      0.80      0.89         5\n",
            "          64       1.00      1.00      1.00         8\n",
            "          65       0.88      1.00      0.93         7\n",
            "          66       1.00      1.00      1.00         6\n",
            "          67       1.00      1.00      1.00        15\n",
            "          68       1.00      1.00      1.00        23\n",
            "          69       0.67      0.67      0.67         6\n",
            "          70       1.00      1.00      1.00         6\n",
            "          71       1.00      0.86      0.92         7\n",
            "          72       1.00      0.71      0.83        14\n",
            "          73       1.00      1.00      1.00        14\n",
            "          74       0.75      1.00      0.86         6\n",
            "          75       1.00      1.00      1.00         9\n",
            "          76       0.67      1.00      0.80         2\n",
            "          77       0.67      1.00      0.80         8\n",
            "          78       1.00      1.00      1.00        11\n",
            "          79       1.00      1.00      1.00        20\n",
            "          80       0.90      1.00      0.95         9\n",
            "          81       0.92      1.00      0.96        11\n",
            "          82       1.00      0.60      0.75         5\n",
            "          83       1.00      1.00      1.00         2\n",
            "          84       1.00      1.00      1.00         7\n",
            "\n",
            "    accuracy                           0.96       850\n",
            "   macro avg       0.95      0.96      0.95       850\n",
            "weighted avg       0.97      0.96      0.96       850\n",
            "\n",
            "\n",
            "Confusion Matrix:\n",
            "[[ 9  0  0 ...  0  0  0]\n",
            " [ 0 14  0 ...  0  0  0]\n",
            " [ 0  0  2 ...  0  0  0]\n",
            " ...\n",
            " [ 0  0  0 ...  3  0  0]\n",
            " [ 0  0  0 ...  0  2  0]\n",
            " [ 0  0  0 ...  0  0  7]]\n"
          ]
        }
      ]
    },
    {
      "cell_type": "code",
      "source": [
        "!pip install huggingface_hub\n"
      ],
      "metadata": {
        "colab": {
          "base_uri": "https://localhost:8080/"
        },
        "id": "mdeVx0V11oXC",
        "outputId": "315756c6-80cd-417f-a635-726ed097a4c4"
      },
      "execution_count": null,
      "outputs": [
        {
          "output_type": "stream",
          "name": "stdout",
          "text": [
            "Requirement already satisfied: huggingface_hub in /usr/local/lib/python3.11/dist-packages (0.28.1)\n",
            "Requirement already satisfied: filelock in /usr/local/lib/python3.11/dist-packages (from huggingface_hub) (3.17.0)\n",
            "Requirement already satisfied: fsspec>=2023.5.0 in /usr/local/lib/python3.11/dist-packages (from huggingface_hub) (2024.10.0)\n",
            "Requirement already satisfied: packaging>=20.9 in /usr/local/lib/python3.11/dist-packages (from huggingface_hub) (24.2)\n",
            "Requirement already satisfied: pyyaml>=5.1 in /usr/local/lib/python3.11/dist-packages (from huggingface_hub) (6.0.2)\n",
            "Requirement already satisfied: requests in /usr/local/lib/python3.11/dist-packages (from huggingface_hub) (2.32.3)\n",
            "Requirement already satisfied: tqdm>=4.42.1 in /usr/local/lib/python3.11/dist-packages (from huggingface_hub) (4.67.1)\n",
            "Requirement already satisfied: typing-extensions>=3.7.4.3 in /usr/local/lib/python3.11/dist-packages (from huggingface_hub) (4.12.2)\n",
            "Requirement already satisfied: charset-normalizer<4,>=2 in /usr/local/lib/python3.11/dist-packages (from requests->huggingface_hub) (3.4.1)\n",
            "Requirement already satisfied: idna<4,>=2.5 in /usr/local/lib/python3.11/dist-packages (from requests->huggingface_hub) (3.10)\n",
            "Requirement already satisfied: urllib3<3,>=1.21.1 in /usr/local/lib/python3.11/dist-packages (from requests->huggingface_hub) (2.3.0)\n",
            "Requirement already satisfied: certifi>=2017.4.17 in /usr/local/lib/python3.11/dist-packages (from requests->huggingface_hub) (2025.1.31)\n"
          ]
        }
      ]
    },
    {
      "cell_type": "code",
      "source": [
        "from huggingface_hub import notebook_login\n",
        "notebook_login()\n"
      ],
      "metadata": {
        "colab": {
          "base_uri": "https://localhost:8080/",
          "height": 17,
          "referenced_widgets": [
            "b8a9d6805ff94557a6174b8360a90ded",
            "c9c09bfc24a64c12b6058e865d4f3515",
            "5af19cc66ec843f6ba1a7eba80ff5e60",
            "5d4ef86ccfd743009f69cb07cdd832f3",
            "3f69eccae7e94e22a470f0e40012c3b5",
            "77b2902000d042339732f26a1fcf5444",
            "e18a961c39174ab48aa234ea2ca1db85",
            "360d1e94c04046a687bb36e53daa6235",
            "52a0e7e8e0c849ac96d05c8979f70bc8",
            "73b80f4477fe40df8670f87fec2843cf",
            "d1c51be5437845d1b290142fa5ca86ea",
            "5220d5d6aa4a4cceb0a7d2615807b04a",
            "f2290511546045c1bfe7f09776740870",
            "f1d3e291e4a24e65ba266a2fba801e7c",
            "8ce72b5a300140a6822a0f58ede5620f",
            "e33cdfc725b44ccb8ea5edc6287ac71a",
            "ead0ccc500fa43049055f3682bf62058",
            "f0d25992394a45e58b5205a909d4848a",
            "83e0bae9e0524898a739eb62c893fea9",
            "1e0e4a705457411faf69aae89fd063ef"
          ]
        },
        "id": "X7myC5QT1uDx",
        "outputId": "1c6f65fd-b92d-423d-93ca-c9a223c6c596"
      },
      "execution_count": null,
      "outputs": [
        {
          "output_type": "display_data",
          "data": {
            "text/plain": [
              "VBox(children=(HTML(value='<center> <img\\nsrc=https://huggingface.co/front/assets/huggingface_logo-noborder.sv…"
            ],
            "application/vnd.jupyter.widget-view+json": {
              "version_major": 2,
              "version_minor": 0,
              "model_id": "b8a9d6805ff94557a6174b8360a90ded"
            }
          },
          "metadata": {}
        }
      ]
    },
    {
      "cell_type": "code",
      "source": [
        "from huggingface_hub import HfApi\n",
        "\n",
        "api = HfApi()\n",
        "api.upload_file(\n",
        "    path_or_fileobj=\"/content/sign_language_model.h5\",  # Path to your model file\n",
        "    path_in_repo=\"sign_language_model.h5\",\n",
        "    repo_id=\"simo2valid/cnnsignlanguagemodel\",  # Change this to your Hugging Face username and repo name\n",
        "    repo_type=\"model\"\n",
        ")\n"
      ],
      "metadata": {
        "colab": {
          "base_uri": "https://localhost:8080/",
          "height": 260,
          "referenced_widgets": [
            "3ed652a70c354451a823e57c2f0fd270",
            "65dfc76af60e41828bcd69afc6c6b64f",
            "9376dfd8af7a45df97dbcaedd81e84b8",
            "433eff700e5145caa70d4652899cdc04",
            "fa238bd0ad6d4e09b1772443366d894a",
            "a4d37a565d4148b6b8ee76b467791dfd",
            "861cdf0067db47df8cd9bd3dc2d08723",
            "a3d6c368e72e48d08c1d0377bc080034",
            "71d7a8223f244d16939816487ae60ac0",
            "a3da721866764896b9d3e4ca1d66245e",
            "e8463559fe774603aee104e058bf2b3b"
          ]
        },
        "id": "JCbcannH3Bgs",
        "outputId": "bc9d5427-3c0f-40a7-b475-e92dcbe9a592"
      },
      "execution_count": null,
      "outputs": [
        {
          "output_type": "stream",
          "name": "stderr",
          "text": [
            "/usr/local/lib/python3.11/dist-packages/huggingface_hub/utils/_auth.py:94: UserWarning: \n",
            "The secret `HF_TOKEN` does not exist in your Colab secrets.\n",
            "To authenticate with the Hugging Face Hub, create a token in your settings tab (https://huggingface.co/settings/tokens), set it as secret in your Google Colab and restart your session.\n",
            "You will be able to reuse this secret in all of your notebooks.\n",
            "Please note that authentication is recommended but still optional to access public models or datasets.\n",
            "  warnings.warn(\n"
          ]
        },
        {
          "output_type": "display_data",
          "data": {
            "text/plain": [
              "sign_language_model.h5:   0%|          | 0.00/574M [00:00<?, ?B/s]"
            ],
            "application/vnd.jupyter.widget-view+json": {
              "version_major": 2,
              "version_minor": 0,
              "model_id": "3ed652a70c354451a823e57c2f0fd270"
            }
          },
          "metadata": {}
        },
        {
          "output_type": "execute_result",
          "data": {
            "text/plain": [
              "CommitInfo(commit_url='https://huggingface.co/simo2valid/cnnsignlanguagemodel/commit/3d637e5d2a45056e80195954a82630e3c8c3f7fb', commit_message='Upload sign_language_model.h5 with huggingface_hub', commit_description='', oid='3d637e5d2a45056e80195954a82630e3c8c3f7fb', pr_url=None, repo_url=RepoUrl('https://huggingface.co/simo2valid/cnnsignlanguagemodel', endpoint='https://huggingface.co', repo_type='model', repo_id='simo2valid/cnnsignlanguagemodel'), pr_revision=None, pr_num=None)"
            ],
            "application/vnd.google.colaboratory.intrinsic+json": {
              "type": "string"
            }
          },
          "metadata": {},
          "execution_count": 27
        }
      ]
    },
    {
      "cell_type": "code",
      "source": [
        "pip install flask tensorflow\n"
      ],
      "metadata": {
        "id": "Skw1kpSH_J5s"
      },
      "execution_count": null,
      "outputs": []
    },
    {
      "cell_type": "code",
      "source": [
        "from flask import Flask, request, jsonify\n",
        "import tensorflow as tf\n",
        "import numpy as np\n",
        "import cv2\n",
        "\n",
        "app = Flask(__name__)\n",
        "\n",
        "# Load your trained model\n",
        "model = tf.keras.models.load_model(\"sign_language_model.h5\")\n",
        "\n",
        "@app.route('/predict', methods=['POST'])\n",
        "def predict():\n",
        "    try:\n",
        "        file = request.files['image']\n",
        "        image = cv2.imdecode(np.frombuffer(file.read(), np.uint8), cv2.IMREAD_COLOR)\n",
        "        image = cv2.resize(image, (64, 64)) / 255.0  # Resize and normalize\n",
        "        image = np.expand_dims(image, axis=0)  # Add batch dimension\n",
        "\n",
        "        # Make a prediction\n",
        "        prediction = model.predict(image)\n",
        "        predicted_class = np.argmax(prediction)\n",
        "\n",
        "        return jsonify({\"predicted_class\": int(predicted_class)})\n",
        "\n",
        "    except Exception as e:\n",
        "        return jsonify({\"error\": str(e)})\n",
        "\n",
        "if __name__ == '__main__':\n",
        "    app.run(debug=True)\n"
      ],
      "metadata": {
        "colab": {
          "base_uri": "https://localhost:8080/"
        },
        "id": "4C6_mEDM_M0N",
        "outputId": "1e7b5d13-ff79-4f99-9af1-5e584419af0a"
      },
      "execution_count": null,
      "outputs": [
        {
          "output_type": "stream",
          "name": "stderr",
          "text": [
            "WARNING:absl:Compiled the loaded model, but the compiled metrics have yet to be built. `model.compile_metrics` will be empty until you train or evaluate the model.\n",
            "INFO:werkzeug:\u001b[31m\u001b[1mWARNING: This is a development server. Do not use it in a production deployment. Use a production WSGI server instead.\u001b[0m\n",
            " * Running on http://127.0.0.1:5000\n",
            "INFO:werkzeug:\u001b[33mPress CTRL+C to quit\u001b[0m\n",
            "INFO:werkzeug: * Restarting with stat\n"
          ]
        }
      ]
    }
  ]
}